{
 "cells": [
  {
   "cell_type": "markdown",
   "metadata": {},
   "source": [
    "# Setting Up Repository Dependencies in Git\n",
    "\n",
    "This notebook will ensure that you have downloaded all the code that should be used in subsequent activities.\n",
    "The current repository has a git submodule, that needs to be initialized.\n",
    "\n",
    "A **Git submodule** is a repository embedded inside another Git repository. It allows you to keep one Git repository as a subdirectory of another repository while keeping the histories of both projects separate. This is useful when you want to include an external project or library in your project but still track updates independently.\n",
    "\n",
    "The submodule containing the code for the incubator DT has already been added to this repository, so now we just need to initialize it."
   ]
  },
  {
   "cell_type": "code",
   "execution_count": 1,
   "metadata": {
    "execution": {
     "iopub.execute_input": "2024-10-01T13:03:23.208358Z",
     "iopub.status.busy": "2024-10-01T13:03:23.208358Z",
     "iopub.status.idle": "2024-10-01T13:03:23.217912Z",
     "shell.execute_reply": "2024-10-01T13:03:23.217912Z"
    }
   },
   "outputs": [
    {
     "name": "stdout",
     "output_type": "stream",
     "text": [
      "Current working directory: /home/boakes/Projects/Poly/Teaching/2025.Winter/LOG6953FE - DT Course/Labs Repo-IncubatorDTCourse/0-Pre-requisites\n",
      "Repository root: /home/boakes/Projects/Poly/Teaching/2025.Winter/LOG6953FE - DT Course/Labs Repo-IncubatorDTCourse\n"
     ]
    }
   ],
   "source": [
    "# Change directory to repository root\n",
    "import os\n",
    "import sys\n",
    "\n",
    "# Store current working directory\n",
    "cwd = os.getcwd()\n",
    "print(\"Current working directory: \" + cwd)\n",
    "\n",
    "# Change directory to repository root\n",
    "os.chdir(\"../\")\n",
    "print(\"Repository root: \" + os.getcwd())\n",
    "\n",
    "# Confirm that the current working directory is correct\n",
    "assert os.path.exists(\".git\"), \"Current working directory should be the repository root\""
   ]
  },
  {
   "cell_type": "code",
   "execution_count": 2,
   "metadata": {
    "execution": {
     "iopub.execute_input": "2024-10-01T13:03:23.217912Z",
     "iopub.status.busy": "2024-10-01T13:03:23.217912Z",
     "iopub.status.idle": "2024-10-01T13:03:24.293595Z",
     "shell.execute_reply": "2024-10-01T13:03:24.293595Z"
    }
   },
   "outputs": [],
   "source": [
    "# Run the git submodule update command\n",
    "# May not show any output if the submodule is up-to-date\n",
    "!git submodule update --init --recursive --progress"
   ]
  },
  {
   "cell_type": "code",
   "execution_count": 3,
   "metadata": {
    "execution": {
     "iopub.execute_input": "2024-10-01T13:03:24.295611Z",
     "iopub.status.busy": "2024-10-01T13:03:24.295611Z",
     "iopub.status.idle": "2024-10-01T13:03:24.299125Z",
     "shell.execute_reply": "2024-10-01T13:03:24.299125Z"
    }
   },
   "outputs": [],
   "source": [
    "# Check that there is now a directory containing the incubator repository contents. We just check a few directories that seldom change.\n",
    "assert os.path.exists(\"incubator_dt/\"), \"The incubator directory was not found\"\n",
    "assert os.path.exists(\"incubator_dt/software/incubator/datasets\"), \"The incubator directory was not found\"\n",
    "assert os.path.exists(\"incubator_dt/software/startup\"), \"The incubator directory was not found\""
   ]
  },
  {
   "cell_type": "code",
   "execution_count": 4,
   "metadata": {
    "execution": {
     "iopub.execute_input": "2024-10-01T13:03:24.301141Z",
     "iopub.status.busy": "2024-10-01T13:03:24.300133Z",
     "iopub.status.idle": "2024-10-01T13:03:24.302940Z",
     "shell.execute_reply": "2024-10-01T13:03:24.302940Z"
    }
   },
   "outputs": [
    {
     "name": "stdout",
     "output_type": "stream",
     "text": [
      "Changed back to: /home/boakes/Projects/Poly/Teaching/2025.Winter/LOG6953FE - DT Course/Labs Repo-IncubatorDTCourse/0-Pre-requisites\n"
     ]
    }
   ],
   "source": [
    "# Go back to the original directory\n",
    "os.chdir(cwd)\n",
    "print(\"Changed back to: \" + cwd)"
   ]
  }
 ],
 "metadata": {
  "kernelspec": {
   "display_name": "Python 3 (ipykernel)",
   "language": "python",
   "name": "python3"
  },
  "language_info": {
   "codemirror_mode": {
    "name": "ipython",
    "version": 3
   },
   "file_extension": ".py",
   "mimetype": "text/x-python",
   "name": "python",
   "nbconvert_exporter": "python",
   "pygments_lexer": "ipython3",
   "version": "3.12.3"
  }
 },
 "nbformat": 4,
 "nbformat_minor": 2
}
