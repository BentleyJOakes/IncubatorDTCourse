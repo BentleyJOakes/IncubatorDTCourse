{
 "cells": [
  {
   "cell_type": "markdown",
   "metadata": {},
   "source": [
    "# Setting Up Repository Dependencies in Git\n",
    "\n",
    "This notebook will ensure that you have downloaded all the code that should be used in subsequent activities.\n",
    "The current repository has a git submodule, that needs to be initialized.\n",
    "\n",
    "A **Git submodule** is a repository embedded inside another Git repository. It allows you to keep one Git repository as a subdirectory of another repository while keeping the histories of both projects separate. This is useful when you want to include an external project or library in your project but still track updates independently.\n",
    "\n",
    "The submodule has already been added ot this repository, so now we just need to initialize it."
   ]
  },
  {
   "cell_type": "code",
   "execution_count": 1,
   "metadata": {
    "execution": {
     "iopub.execute_input": "2024-10-01T13:03:23.208358Z",
     "iopub.status.busy": "2024-10-01T13:03:23.208358Z",
     "iopub.status.idle": "2024-10-01T13:03:23.217912Z",
     "shell.execute_reply": "2024-10-01T13:03:23.217912Z"
    }
   },
   "outputs": [],
   "source": [
    "# Change directory to repository root\n",
    "import os\n",
    "import sys\n",
    "\n",
    "# Store current working directory\n",
    "cwd = os.getcwd()\n",
    "\n",
    "# Change directory to repository root\n",
    "os.chdir(\"../\")\n",
    "\n",
    "# Confirm that the current working directory is correct\n",
    "assert os.path.exists(\".git\"), \"Current working directory should be the repository root\""
   ]
  },
  {
   "cell_type": "code",
   "execution_count": 2,
   "metadata": {
    "execution": {
     "iopub.execute_input": "2024-10-01T13:03:23.217912Z",
     "iopub.status.busy": "2024-10-01T13:03:23.217912Z",
     "iopub.status.idle": "2024-10-01T13:03:24.293595Z",
     "shell.execute_reply": "2024-10-01T13:03:24.293595Z"
    }
   },
   "outputs": [],
   "source": [
    "# Run the git submodule update command\n",
    "!git submodule update --init --recursive"
   ]
  },
  {
   "cell_type": "code",
   "execution_count": 3,
   "metadata": {
    "execution": {
     "iopub.execute_input": "2024-10-01T13:03:24.295611Z",
     "iopub.status.busy": "2024-10-01T13:03:24.295611Z",
     "iopub.status.idle": "2024-10-01T13:03:24.299125Z",
     "shell.execute_reply": "2024-10-01T13:03:24.299125Z"
    }
   },
   "outputs": [],
   "source": [
    "# Check that there is now a directory containing the incubator repository contents. We just check a few directories that seldom change.\n",
    "assert os.path.exists(\"incubator_dt/\"), \"The incubator directory was not found\"\n",
    "assert os.path.exists(\"incubator_dt/software/incubator/datasets\"), \"The incubator directory was not found\"\n",
    "assert os.path.exists(\"incubator_dt/software/startup\"), \"The incubator directory was not found\""
   ]
  },
  {
   "cell_type": "code",
   "execution_count": 4,
   "metadata": {
    "execution": {
     "iopub.execute_input": "2024-10-01T13:03:24.301141Z",
     "iopub.status.busy": "2024-10-01T13:03:24.300133Z",
     "iopub.status.idle": "2024-10-01T13:03:24.302940Z",
     "shell.execute_reply": "2024-10-01T13:03:24.302940Z"
    }
   },
   "outputs": [],
   "source": [
    "# Go back to the original directory\n",
    "os.chdir(cwd)"
   ]
  }
 ],
 "metadata": {
  "kernelspec": {
   "display_name": "Python 3",
   "language": "python",
   "name": "python3"
  },
  "language_info": {
   "codemirror_mode": {
    "name": "ipython",
    "version": 3
   },
   "file_extension": ".py",
   "mimetype": "text/x-python",
   "name": "python",
   "nbconvert_exporter": "python",
   "pygments_lexer": "ipython3",
   "version": "3.11.2"
  }
 },
 "nbformat": 4,
 "nbformat_minor": 2
}
