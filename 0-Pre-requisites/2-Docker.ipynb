{
 "cells": [
  {
   "cell_type": "markdown",
   "metadata": {},
   "source": [
    "# Docker Basics\n",
    "\n",
    "Docker is a platform that allows you to automate the deployment of applications inside lightweight, portable containers. This tutorial will guide you through the basics of Docker: installation, pulling and running containers, building Docker images, and basic container management.\n",
    "\n",
    "Before we begin, let's check if Docker is installed and running on your machine.\n",
    "\n",
    "## Checking Docker Installation"
   ]
  },
  {
   "cell_type": "code",
   "execution_count": 4,
   "metadata": {
    "execution": {
     "iopub.execute_input": "2024-10-01T13:03:27.657538Z",
     "iopub.status.busy": "2024-10-01T13:03:27.657538Z",
     "iopub.status.idle": "2024-10-01T13:03:27.728207Z",
     "shell.execute_reply": "2024-10-01T13:03:27.728207Z"
    }
   },
   "outputs": [
    {
     "name": "stdout",
     "output_type": "stream",
     "text": [
      "Docker version 27.1.1, build 6312585\n"
     ]
    }
   ],
   "source": [
    "!docker --version"
   ]
  },
  {
   "cell_type": "markdown",
   "metadata": {},
   "source": [
    "If Docker is installed, this will display the installed version. If not, please install Docker before proceeding.\n",
    "\n",
    "## Pulling Your First Docker Image\n",
    "Docker containers are built from Docker images. In this section, we'll pull a pre-built image from [Docker Hub](https://hub.docker.com/).\n",
    "\n",
    "We'll start by pulling the official `hello-world` image."
   ]
  },
  {
   "cell_type": "code",
   "execution_count": 5,
   "metadata": {
    "execution": {
     "iopub.execute_input": "2024-10-01T13:03:27.751190Z",
     "iopub.status.busy": "2024-10-01T13:03:27.751190Z",
     "iopub.status.idle": "2024-10-01T13:03:29.805910Z",
     "shell.execute_reply": "2024-10-01T13:03:29.805910Z"
    }
   },
   "outputs": [
    {
     "name": "stdout",
     "output_type": "stream",
     "text": [
      "Using default tag: latest\n",
      "latest: Pulling from library/hello-world\n",
      "Digest: sha256:91fb4b041da273d5a3273b6d587d62d518300a6ad268b28628f74997b93171b2\n",
      "Status: Image is up to date for hello-world:latest\n",
      "docker.io/library/hello-world:latest\n"
     ]
    }
   ],
   "source": [
    "!docker pull hello-world"
   ]
  },
  {
   "cell_type": "markdown",
   "metadata": {},
   "source": [
    "## Running a Docker Container\n",
    "Now that we have the `hello-world` image, let's run it as a container."
   ]
  },
  {
   "cell_type": "code",
   "execution_count": 6,
   "metadata": {
    "execution": {
     "iopub.execute_input": "2024-10-01T13:03:29.807307Z",
     "iopub.status.busy": "2024-10-01T13:03:29.807307Z",
     "iopub.status.idle": "2024-10-01T13:03:30.470971Z",
     "shell.execute_reply": "2024-10-01T13:03:30.469921Z"
    }
   },
   "outputs": [
    {
     "name": "stdout",
     "output_type": "stream",
     "text": [
      "\n",
      "Hello from Docker!\n",
      "This message shows that your installation appears to be working correctly.\n",
      "\n",
      "To generate this message, Docker took the following steps:\n",
      " 1. The Docker client contacted the Docker daemon.\n",
      " 2. The Docker daemon pulled the \"hello-world\" image from the Docker Hub.\n",
      "    (amd64)\n",
      " 3. The Docker daemon created a new container from that image which runs the\n",
      "    executable that produces the output you are currently reading.\n",
      " 4. The Docker daemon streamed that output to the Docker client, which sent it\n",
      "    to your terminal.\n",
      "\n",
      "To try something more ambitious, you can run an Ubuntu container with:\n",
      " $ docker run -it ubuntu bash\n",
      "\n",
      "Share images, automate workflows, and more with a free Docker ID:\n",
      " https://hub.docker.com/\n",
      "\n",
      "For more examples and ideas, visit:\n",
      " https://docs.docker.com/get-started/\n",
      "\n"
     ]
    }
   ],
   "source": [
    "!docker run hello-world"
   ]
  },
  {
   "cell_type": "markdown",
   "metadata": {},
   "source": [
    "When you run this, Docker will start a container using the `hello-world` image. It will print a message and then exit. The message demonstrates that your Docker installation is working properly.\n",
    "\n",
    "## Listing Running and Stopped Containers\n",
    "Docker keeps a history of the containers you've run. You can list them using the following command:"
   ]
  },
  {
   "cell_type": "code",
   "execution_count": 7,
   "metadata": {
    "execution": {
     "iopub.execute_input": "2024-10-01T13:03:30.474255Z",
     "iopub.status.busy": "2024-10-01T13:03:30.474255Z",
     "iopub.status.idle": "2024-10-01T13:03:30.568863Z",
     "shell.execute_reply": "2024-10-01T13:03:30.568863Z"
    }
   },
   "outputs": [
    {
     "name": "stdout",
     "output_type": "stream",
     "text": [
      "CONTAINER ID   IMAGE         COMMAND    CREATED        STATUS                              PORTS     NAMES\n",
      "de51d97139e1   hello-world   \"/hello\"   1 second ago   Exited (0) Less than a second ago             admiring_elbakyan\n"
     ]
    }
   ],
   "source": [
    "!docker ps -a"
   ]
  },
  {
   "cell_type": "markdown",
   "metadata": {},
   "source": [
    "This command will display all containers, including stopped ones, along with their ID, name, status, and other details.\n",
    "\n",
    "## Removing a Docker Container\n",
    "To clean up, let's remove the `hello-world` container we just created.\n",
    "\n",
    "First, find the container ID or name using `docker ps -a`, and then run, replace the ID in the next command and run:"
   ]
  },
  {
   "cell_type": "code",
   "execution_count": 8,
   "metadata": {
    "execution": {
     "iopub.execute_input": "2024-10-01T13:03:30.568863Z",
     "iopub.status.busy": "2024-10-01T13:03:30.568863Z",
     "iopub.status.idle": "2024-10-01T13:03:30.666779Z",
     "shell.execute_reply": "2024-10-01T13:03:30.666171Z"
    }
   },
   "outputs": [
    {
     "name": "stderr",
     "output_type": "stream",
     "text": [
      "Error response from daemon: No such container: 4109a4ad88aa\n"
     ]
    }
   ],
   "source": [
    "!docker rm 4109a4ad88aa"
   ]
  },
  {
   "cell_type": "markdown",
   "metadata": {},
   "source": [
    "## Using Shared Volumes in Docker\n",
    "\n",
    "Shared volumes allow you to share files between your host machine and the Docker container. This is useful for editing files on your local machine while having those changes immediately reflected in the container.\n",
    "\n",
    "We'll create a shared volume between a folder on your host machine and the container running a simple Python script.\n",
    "\n",
    "###\n",
    "First, let's create a directory on your host machine where we can store a Python script."
   ]
  },
  {
   "cell_type": "code",
   "execution_count": 9,
   "metadata": {
    "execution": {
     "iopub.execute_input": "2024-10-01T13:03:30.670437Z",
     "iopub.status.busy": "2024-10-01T13:03:30.669915Z",
     "iopub.status.idle": "2024-10-01T13:03:30.674225Z",
     "shell.execute_reply": "2024-10-01T13:03:30.673970Z"
    }
   },
   "outputs": [],
   "source": [
    "# Create directory for the shared volume in python\n",
    "import os\n",
    "os.makedirs(\"shared_volume\", exist_ok=True)"
   ]
  },
  {
   "cell_type": "markdown",
   "metadata": {},
   "source": [
    "### Create a Python Script on Your Host"
   ]
  },
  {
   "cell_type": "code",
   "execution_count": 10,
   "metadata": {
    "execution": {
     "iopub.execute_input": "2024-10-01T13:03:30.678561Z",
     "iopub.status.busy": "2024-10-01T13:03:30.678019Z",
     "iopub.status.idle": "2024-10-01T13:03:30.684380Z",
     "shell.execute_reply": "2024-10-01T13:03:30.684380Z"
    }
   },
   "outputs": [
    {
     "name": "stdout",
     "output_type": "stream",
     "text": [
      "Overwriting ./shared_volume/hello_from_volume.py\n"
     ]
    }
   ],
   "source": [
    "%%writefile ./shared_volume/hello_from_volume.py\n",
    "print(\"Hello from the shared volume!\")"
   ]
  },
  {
   "cell_type": "markdown",
   "metadata": {},
   "source": [
    "## Building a Docker Image\n",
    "Now, let's move on to creating our own Docker image. We'll create a simple image that runs a Python script from the shared volume.\n",
    "\n",
    "First, create a `Dockerfile`. This file contains instructions for building a Docker image. Here's an example:"
   ]
  },
  {
   "cell_type": "code",
   "execution_count": 11,
   "metadata": {
    "execution": {
     "iopub.execute_input": "2024-10-01T13:03:30.688530Z",
     "iopub.status.busy": "2024-10-01T13:03:30.688024Z",
     "iopub.status.idle": "2024-10-01T13:03:30.693052Z",
     "shell.execute_reply": "2024-10-01T13:03:30.692596Z"
    }
   },
   "outputs": [
    {
     "name": "stdout",
     "output_type": "stream",
     "text": [
      "Overwriting Dockerfile\n"
     ]
    }
   ],
   "source": [
    "%%writefile Dockerfile\n",
    "# Use Python base image\n",
    "FROM python:3.8-slim\n",
    "\n",
    "# Set the working directory inside the container\n",
    "WORKDIR /app\n",
    "\n",
    "# Command to run a script from the volume (this script will be provided by the volume)\n",
    "CMD [\"python\", \"/app/hello_from_volume.py\"]"
   ]
  },
  {
   "cell_type": "markdown",
   "metadata": {},
   "source": [
    "Now, build the Docker image using the `docker build` command. The `-t` flag allows you to tag the image with a name:"
   ]
  },
  {
   "cell_type": "code",
   "execution_count": 12,
   "metadata": {
    "execution": {
     "iopub.execute_input": "2024-10-01T13:03:30.695690Z",
     "iopub.status.busy": "2024-10-01T13:03:30.695690Z",
     "iopub.status.idle": "2024-10-01T13:03:32.118198Z",
     "shell.execute_reply": "2024-10-01T13:03:32.118198Z"
    }
   },
   "outputs": [
    {
     "name": "stderr",
     "output_type": "stream",
     "text": [
      "#0 building with \"desktop-linux\" instance using docker driver\n",
      "\n",
      "#1 [internal] load build definition from Dockerfile\n",
      "#1 transferring dockerfile: 287B done\n",
      "#1 DONE 0.0s\n",
      "\n",
      "#2 [auth] library/python:pull token for registry-1.docker.io\n",
      "#2 DONE 0.0s\n",
      "\n",
      "#3 [internal] load metadata for docker.io/library/python:3.8-slim\n",
      "#3 DONE 1.3s\n",
      "\n",
      "#4 [internal] load .dockerignore\n",
      "#4 transferring context: 2B done\n",
      "#4 DONE 0.0s\n",
      "\n",
      "#5 [1/2] FROM docker.io/library/python:3.8-slim@sha256:1d52838af602b4b5a831beb13a0e4d073280665ea7be7f69ce2382f29c5a613f\n",
      "#5 DONE 0.0s\n",
      "\n",
      "#6 [2/2] WORKDIR /app\n",
      "#6 CACHED\n",
      "\n",
      "#7 exporting to image\n",
      "#7 exporting layers done\n",
      "#7 writing image sha256:9fca6e23f805b4054b7f01408a605e91e687ef8a91c8ac3711f6df3dd49780c3 done\n",
      "#7 naming to docker.io/library/my-python-app done\n",
      "#7 DONE 0.0s\n",
      "\n",
      "View build details: docker-desktop://dashboard/build/desktop-linux/desktop-linux/zww483u2i23dz4bhzartz7feg\n"
     ]
    }
   ],
   "source": [
    "!docker build -t my-python-app ."
   ]
  },
  {
   "cell_type": "markdown",
   "metadata": {},
   "source": [
    "## Running the Custom Docker Image\n",
    "\n",
    "We will now run the container, mounting the local directory (`./shared_volume`) into the container at the `/app` directory. This way, the Python script on your local machine will be accessible from inside the container.\n",
    "\n",
    "Explanation:\n",
    "- **`-v \"{shared_vol_dir}:/app\"`**: This option mounts the host directory (`{shared_vol_dir}`) to the container’s `/app` directory.\n",
    "- **`--rm`**: Automatically removes the container once it exits.\n",
    "- **`my-python-app`**: This is the image we built earlier."
   ]
  },
  {
   "cell_type": "code",
   "execution_count": 13,
   "metadata": {
    "execution": {
     "iopub.execute_input": "2024-10-01T13:03:32.118198Z",
     "iopub.status.busy": "2024-10-01T13:03:32.118198Z",
     "iopub.status.idle": "2024-10-01T13:03:32.125189Z",
     "shell.execute_reply": "2024-10-01T13:03:32.125189Z"
    }
   },
   "outputs": [
    {
     "data": {
      "text/plain": [
       "'c:\\\\work\\\\github\\\\IncubatorDTCourse\\\\0-Pre-requisites\\\\shared_volume'"
      ]
     },
     "execution_count": 13,
     "metadata": {},
     "output_type": "execute_result"
    }
   ],
   "source": [
    "shared_vol_dir = os.path.abspath(\"./shared_volume\")\n",
    "shared_vol_dir"
   ]
  },
  {
   "cell_type": "code",
   "execution_count": 14,
   "metadata": {
    "execution": {
     "iopub.execute_input": "2024-10-01T13:03:32.127206Z",
     "iopub.status.busy": "2024-10-01T13:03:32.127206Z",
     "iopub.status.idle": "2024-10-01T13:03:32.913486Z",
     "shell.execute_reply": "2024-10-01T13:03:32.913486Z"
    }
   },
   "outputs": [
    {
     "name": "stdout",
     "output_type": "stream",
     "text": [
      "Hello from the shared volume!\n"
     ]
    }
   ],
   "source": [
    "!docker run --rm -v \"{shared_vol_dir}:/app\" my-python-app"
   ]
  },
  {
   "cell_type": "markdown",
   "metadata": {},
   "source": [
    "You should see the output: `Hello from the shared volume!`.\n",
    "\n",
    "## Editing the Script\n",
    "\n",
    "Let’s modify the Python script from your local machine and re-run the container to see how changes are reflected:"
   ]
  },
  {
   "cell_type": "code",
   "execution_count": 15,
   "metadata": {
    "execution": {
     "iopub.execute_input": "2024-10-01T13:03:32.915703Z",
     "iopub.status.busy": "2024-10-01T13:03:32.915703Z",
     "iopub.status.idle": "2024-10-01T13:03:32.919532Z",
     "shell.execute_reply": "2024-10-01T13:03:32.919532Z"
    }
   },
   "outputs": [
    {
     "name": "stdout",
     "output_type": "stream",
     "text": [
      "Overwriting ./shared_volume/hello_from_volume.py\n"
     ]
    }
   ],
   "source": [
    "%%writefile ./shared_volume/hello_from_volume.py\n",
    "print(\"Hello again from the updated shared volume!\")"
   ]
  },
  {
   "cell_type": "markdown",
   "metadata": {},
   "source": [
    "Run the container again:"
   ]
  },
  {
   "cell_type": "code",
   "execution_count": 16,
   "metadata": {
    "execution": {
     "iopub.execute_input": "2024-10-01T13:03:32.922541Z",
     "iopub.status.busy": "2024-10-01T13:03:32.922541Z",
     "iopub.status.idle": "2024-10-01T13:03:33.798424Z",
     "shell.execute_reply": "2024-10-01T13:03:33.797891Z"
    }
   },
   "outputs": [
    {
     "name": "stdout",
     "output_type": "stream",
     "text": [
      "Hello again from the updated shared volume!\n"
     ]
    }
   ],
   "source": [
    "!docker run --rm -v \"{shared_vol_dir}:/app\" my-python-app"
   ]
  },
  {
   "cell_type": "markdown",
   "metadata": {},
   "source": [
    "The container will now output: `Hello again from the updated shared volume!`."
   ]
  },
  {
   "cell_type": "markdown",
   "metadata": {},
   "source": [
    "\n",
    "## Clean Up\n",
    "\n",
    "To remove the image you created:"
   ]
  },
  {
   "cell_type": "code",
   "execution_count": 17,
   "metadata": {
    "execution": {
     "iopub.execute_input": "2024-10-01T13:03:33.800524Z",
     "iopub.status.busy": "2024-10-01T13:03:33.799985Z",
     "iopub.status.idle": "2024-10-01T13:03:33.893688Z",
     "shell.execute_reply": "2024-10-01T13:03:33.893688Z"
    }
   },
   "outputs": [
    {
     "name": "stdout",
     "output_type": "stream",
     "text": [
      "Untagged: my-python-app:latest\n",
      "Deleted: sha256:9fca6e23f805b4054b7f01408a605e91e687ef8a91c8ac3711f6df3dd49780c3\n"
     ]
    }
   ],
   "source": [
    "!docker rmi my-python-app"
   ]
  },
  {
   "cell_type": "code",
   "execution_count": 18,
   "metadata": {},
   "outputs": [
    {
     "name": "stdout",
     "output_type": "stream",
     "text": [
      "Deleted Containers:\n",
      "de51d97139e156719c919e54141e47342df2d401072fff2ac53bcfaf332f65e9\n",
      "\n",
      "Total reclaimed space: 0B\n"
     ]
    }
   ],
   "source": [
    "# Remove all stopped containers\n",
    "!docker container prune -f"
   ]
  }
 ],
 "metadata": {
  "kernelspec": {
   "display_name": "Python 3",
   "language": "python",
   "name": "python3"
  },
  "language_info": {
   "codemirror_mode": {
    "name": "ipython",
    "version": 3
   },
   "file_extension": ".py",
   "mimetype": "text/x-python",
   "name": "python",
   "nbconvert_exporter": "python",
   "pygments_lexer": "ipython3",
   "version": "3.11.2"
  }
 },
 "nbformat": 4,
 "nbformat_minor": 2
}
