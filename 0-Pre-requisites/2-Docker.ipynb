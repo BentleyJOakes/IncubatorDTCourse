{
 "cells": [
  {
   "cell_type": "markdown",
   "metadata": {},
   "source": [
    "# Docker Basics\n",
    "\n",
    "Docker is a platform that allows you to automate the deployment of applications inside lightweight, portable containers. This tutorial will guide you through the basics of Docker: installation, pulling and running containers, building Docker images, and basic container management.\n",
    "\n",
    "Before we begin, let's check if Docker is installed and running on your machine.\n",
    "\n",
    "## Checking Docker Installation"
   ]
  },
  {
   "cell_type": "code",
   "execution_count": null,
   "metadata": {
    "execution": {
     "iopub.execute_input": "2024-10-01T13:03:27.657538Z",
     "iopub.status.busy": "2024-10-01T13:03:27.657538Z",
     "iopub.status.idle": "2024-10-01T13:03:27.728207Z",
     "shell.execute_reply": "2024-10-01T13:03:27.728207Z"
    }
   },
   "outputs": [],
   "source": [
    "!docker --version"
   ]
  },
  {
   "cell_type": "markdown",
   "metadata": {},
   "source": [
    "If Docker is installed, this will display the installed version. If not, please install Docker before proceeding. To avoid complex setup, it is recommended to install [Docker Desktop](https://docs.docker.com/desktop/).\n",
    "\n",
    "## Pulling Your First Docker Image\n",
    "Docker containers are built from Docker images. In this section, we'll pull a pre-built image from [Docker Hub](https://hub.docker.com/).\n",
    "\n",
    "We'll start by pulling the official `hello-world` image."
   ]
  },
  {
   "cell_type": "code",
   "execution_count": null,
   "metadata": {
    "execution": {
     "iopub.execute_input": "2024-10-01T13:03:27.751190Z",
     "iopub.status.busy": "2024-10-01T13:03:27.751190Z",
     "iopub.status.idle": "2024-10-01T13:03:29.805910Z",
     "shell.execute_reply": "2024-10-01T13:03:29.805910Z"
    }
   },
   "outputs": [],
   "source": [
    "!docker pull hello-world"
   ]
  },
  {
   "cell_type": "markdown",
   "metadata": {},
   "source": [
    "On Linux: If you received a 'permission denied' error, try following the instructions at: https://www.digitalocean.com/community/questions/how-to-fix-docker-got-permission-denied-while-trying-to-connect-to-the-docker-daemon-socket in a terminal window."
   ]
  },
  {
   "cell_type": "markdown",
   "metadata": {},
   "source": [
    "## Running a Docker Container\n",
    "Now that we have the `hello-world` image, let's run it as a container."
   ]
  },
  {
   "cell_type": "code",
   "execution_count": null,
   "metadata": {
    "execution": {
     "iopub.execute_input": "2024-10-01T13:03:29.807307Z",
     "iopub.status.busy": "2024-10-01T13:03:29.807307Z",
     "iopub.status.idle": "2024-10-01T13:03:30.470971Z",
     "shell.execute_reply": "2024-10-01T13:03:30.469921Z"
    }
   },
   "outputs": [],
   "source": [
    "!docker run hello-world"
   ]
  },
  {
   "cell_type": "markdown",
   "metadata": {},
   "source": [
    "When you run this, Docker will start a container using the `hello-world` image. It will print a message and then exit. The message demonstrates that your Docker installation is working properly.\n",
    "\n",
    "## Listing Running and Stopped Containers\n",
    "Docker keeps a history of the containers you've run. You can list them using the following command:"
   ]
  },
  {
   "cell_type": "code",
   "execution_count": null,
   "metadata": {
    "execution": {
     "iopub.execute_input": "2024-10-01T13:03:30.474255Z",
     "iopub.status.busy": "2024-10-01T13:03:30.474255Z",
     "iopub.status.idle": "2024-10-01T13:03:30.568863Z",
     "shell.execute_reply": "2024-10-01T13:03:30.568863Z"
    }
   },
   "outputs": [],
   "source": [
    "!docker ps -a"
   ]
  },
  {
   "cell_type": "markdown",
   "metadata": {},
   "source": [
    "This command will display all containers, including stopped ones, along with their ID, name, status, and other details.\n",
    "\n",
    "## Removing a Docker Container\n",
    "To clean up, let's remove the `hello-world` container we just created.\n",
    "\n",
    "First, find the container ID or name using `docker ps -a`, and then run, replace the ID in the next command and run:"
   ]
  },
  {
   "cell_type": "code",
   "execution_count": null,
   "metadata": {
    "execution": {
     "iopub.execute_input": "2024-10-01T13:03:30.568863Z",
     "iopub.status.busy": "2024-10-01T13:03:30.568863Z",
     "iopub.status.idle": "2024-10-01T13:03:30.666779Z",
     "shell.execute_reply": "2024-10-01T13:03:30.666171Z"
    }
   },
   "outputs": [],
   "source": [
    "!docker rm 1faa6223cdf4"
   ]
  },
  {
   "cell_type": "markdown",
   "metadata": {},
   "source": [
    "Let's verify that the container was removed."
   ]
  },
  {
   "cell_type": "code",
   "execution_count": null,
   "metadata": {},
   "outputs": [],
   "source": [
    "!docker ps -a"
   ]
  },
  {
   "cell_type": "markdown",
   "metadata": {},
   "source": [
    "## Using Shared Volumes in Docker\n",
    "\n",
    "Shared volumes allow you to share files between your host machine and the Docker container. This is useful for editing files on your local machine while having those changes immediately reflected in the container.\n",
    "\n",
    "We'll create a shared volume between a folder on your host machine and the container running a simple Python script.\n",
    "\n",
    "###\n",
    "First, let's create a directory on your host machine where we can store a Python script."
   ]
  },
  {
   "cell_type": "code",
   "execution_count": null,
   "metadata": {
    "execution": {
     "iopub.execute_input": "2024-10-01T13:03:30.670437Z",
     "iopub.status.busy": "2024-10-01T13:03:30.669915Z",
     "iopub.status.idle": "2024-10-01T13:03:30.674225Z",
     "shell.execute_reply": "2024-10-01T13:03:30.673970Z"
    }
   },
   "outputs": [],
   "source": [
    "# Create directory for the shared volume in python\n",
    "import os\n",
    "print(\"Creating directory in folder: \" + os.getcwd())\n",
    "os.makedirs(\"shared_volume\", exist_ok=True)"
   ]
  },
  {
   "cell_type": "markdown",
   "metadata": {},
   "source": [
    "### Create a Python Script on Your Host"
   ]
  },
  {
   "cell_type": "code",
   "execution_count": null,
   "metadata": {
    "execution": {
     "iopub.execute_input": "2024-10-01T13:03:30.678561Z",
     "iopub.status.busy": "2024-10-01T13:03:30.678019Z",
     "iopub.status.idle": "2024-10-01T13:03:30.684380Z",
     "shell.execute_reply": "2024-10-01T13:03:30.684380Z"
    }
   },
   "outputs": [],
   "source": [
    "%%writefile ./shared_volume/hello_from_volume.py\n",
    "print(\"Hello from the shared volume!\")"
   ]
  },
  {
   "cell_type": "markdown",
   "metadata": {},
   "source": [
    "## Building a Docker Image\n",
    "Now, let's move on to creating our own Docker image. We'll create a simple image that runs a Python script from the shared volume.\n",
    "\n",
    "First, create a `Dockerfile`. This file contains instructions for building a Docker image. Here's an example:"
   ]
  },
  {
   "cell_type": "code",
   "execution_count": null,
   "metadata": {
    "execution": {
     "iopub.execute_input": "2024-10-01T13:03:30.688530Z",
     "iopub.status.busy": "2024-10-01T13:03:30.688024Z",
     "iopub.status.idle": "2024-10-01T13:03:30.693052Z",
     "shell.execute_reply": "2024-10-01T13:03:30.692596Z"
    }
   },
   "outputs": [],
   "source": [
    "%%writefile Dockerfile\n",
    "# Use Python base image\n",
    "FROM python:3.8-slim\n",
    "\n",
    "# Set the working directory inside the container\n",
    "WORKDIR /app\n",
    "\n",
    "# Command to run a script from the volume (this script will be provided by the volume)\n",
    "CMD [\"python\", \"/app/hello_from_volume.py\"]"
   ]
  },
  {
   "cell_type": "markdown",
   "metadata": {},
   "source": [
    "Now, build the Docker image using the `docker build` command. The `-t` flag allows you to tag the image with a name:"
   ]
  },
  {
   "cell_type": "code",
   "execution_count": null,
   "metadata": {
    "execution": {
     "iopub.execute_input": "2024-10-01T13:03:30.695690Z",
     "iopub.status.busy": "2024-10-01T13:03:30.695690Z",
     "iopub.status.idle": "2024-10-01T13:03:32.118198Z",
     "shell.execute_reply": "2024-10-01T13:03:32.118198Z"
    }
   },
   "outputs": [],
   "source": [
    "!docker build -t my-python-app ."
   ]
  },
  {
   "cell_type": "markdown",
   "metadata": {},
   "source": [
    "## Running the Custom Docker Image\n",
    "\n",
    "We will now run the container, mounting the local directory (`./shared_volume`) into the container at the `/app` directory. This way, the Python script on your local machine will be accessible from inside the container.\n",
    "\n",
    "Explanation:\n",
    "- **`-v \"{shared_vol_dir}:/app\"`**: This option mounts the host directory (`{shared_vol_dir}`) to the container’s `/app` directory.\n",
    "- **`--rm`**: Automatically removes the container once it exits.\n",
    "- **`my-python-app`**: This is the image we built earlier."
   ]
  },
  {
   "cell_type": "code",
   "execution_count": null,
   "metadata": {
    "execution": {
     "iopub.execute_input": "2024-10-01T13:03:32.118198Z",
     "iopub.status.busy": "2024-10-01T13:03:32.118198Z",
     "iopub.status.idle": "2024-10-01T13:03:32.125189Z",
     "shell.execute_reply": "2024-10-01T13:03:32.125189Z"
    }
   },
   "outputs": [],
   "source": [
    "shared_vol_dir = os.path.abspath(\"./shared_volume\")\n",
    "shared_vol_dir"
   ]
  },
  {
   "cell_type": "code",
   "execution_count": null,
   "metadata": {
    "execution": {
     "iopub.execute_input": "2024-10-01T13:03:32.127206Z",
     "iopub.status.busy": "2024-10-01T13:03:32.127206Z",
     "iopub.status.idle": "2024-10-01T13:03:32.913486Z",
     "shell.execute_reply": "2024-10-01T13:03:32.913486Z"
    }
   },
   "outputs": [],
   "source": [
    "!docker run --rm -v \"{shared_vol_dir}:/app\" my-python-app"
   ]
  },
  {
   "cell_type": "markdown",
   "metadata": {},
   "source": [
    "You should see the output: `Hello from the shared volume!`.\n",
    "\n",
    "## Editing the Script\n",
    "\n",
    "Let’s modify the Python script from your local machine and re-run the container to see how changes are reflected:"
   ]
  },
  {
   "cell_type": "code",
   "execution_count": null,
   "metadata": {
    "execution": {
     "iopub.execute_input": "2024-10-01T13:03:32.915703Z",
     "iopub.status.busy": "2024-10-01T13:03:32.915703Z",
     "iopub.status.idle": "2024-10-01T13:03:32.919532Z",
     "shell.execute_reply": "2024-10-01T13:03:32.919532Z"
    }
   },
   "outputs": [],
   "source": [
    "%%writefile ./shared_volume/hello_from_volume.py\n",
    "print(\"Hello again from the updated shared volume!\")"
   ]
  },
  {
   "cell_type": "markdown",
   "metadata": {},
   "source": [
    "Run the container again:"
   ]
  },
  {
   "cell_type": "code",
   "execution_count": null,
   "metadata": {
    "execution": {
     "iopub.execute_input": "2024-10-01T13:03:32.922541Z",
     "iopub.status.busy": "2024-10-01T13:03:32.922541Z",
     "iopub.status.idle": "2024-10-01T13:03:33.798424Z",
     "shell.execute_reply": "2024-10-01T13:03:33.797891Z"
    }
   },
   "outputs": [],
   "source": [
    "!docker run --rm -v \"{shared_vol_dir}:/app\" my-python-app"
   ]
  },
  {
   "cell_type": "markdown",
   "metadata": {},
   "source": [
    "The container will now output: `Hello again from the updated shared volume!`."
   ]
  },
  {
   "cell_type": "markdown",
   "metadata": {},
   "source": [
    "\n",
    "## Clean Up\n",
    "\n",
    "To remove the image you created:"
   ]
  },
  {
   "cell_type": "code",
   "execution_count": null,
   "metadata": {
    "execution": {
     "iopub.execute_input": "2024-10-01T13:03:33.800524Z",
     "iopub.status.busy": "2024-10-01T13:03:33.799985Z",
     "iopub.status.idle": "2024-10-01T13:03:33.893688Z",
     "shell.execute_reply": "2024-10-01T13:03:33.893688Z"
    }
   },
   "outputs": [],
   "source": [
    "!docker rmi my-python-app"
   ]
  },
  {
   "cell_type": "code",
   "execution_count": null,
   "metadata": {},
   "outputs": [],
   "source": [
    "# Remove all stopped containers\n",
    "!docker container prune -f"
   ]
  }
 ],
 "metadata": {
  "kernelspec": {
   "display_name": "Python 3 (ipykernel)",
   "language": "python",
   "name": "python3"
  },
  "language_info": {
   "codemirror_mode": {
    "name": "ipython",
    "version": 3
   },
   "file_extension": ".py",
   "mimetype": "text/x-python",
   "name": "python",
   "nbconvert_exporter": "python",
   "pygments_lexer": "ipython3",
   "version": "3.12.3"
  }
 },
 "nbformat": 4,
 "nbformat_minor": 2
}
