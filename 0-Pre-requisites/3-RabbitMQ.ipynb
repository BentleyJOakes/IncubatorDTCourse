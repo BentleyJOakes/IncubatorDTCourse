{
 "cells": [
  {
   "cell_type": "markdown",
   "metadata": {},
   "source": [
    "# RabbitMQ Basics with Docker: A Hands-On Tutorial\n",
    "\n",
    "## Introduction\n",
    "\n",
    "RabbitMQ is a robust messaging broker that allows applications to communicate asynchronously. It supports a variety of messaging protocols and is widely used for managing message queues between distributed systems.\n",
    "\n",
    "In this tutorial, you will:\n",
    "- Set up RabbitMQ using Docker.\n",
    "- Interact with RabbitMQ using Python to send and receive messages.\n",
    "- Understand basic concepts like producers, consumers, and queues.\n",
    "\n",
    "## Prerequisites\n",
    "\n",
    "Ensure that Docker is installed on your system. You can install Docker by following [this guide](https://docs.docker.com/get-docker/).\n",
    "\n",
    "Additionally, ensure Python is installed with the `pika` library, which is used to interact with RabbitMQ.\n",
    "\n",
    "Install `pika`:"
   ]
  },
  {
   "cell_type": "code",
   "execution_count": null,
   "metadata": {},
   "outputs": [],
   "source": [
    "%pip install pika"
   ]
  },
  {
   "cell_type": "markdown",
   "metadata": {},
   "source": [
    "Let's ensure that pika is installed correctly. No error messages means that everything is okay."
   ]
  },
  {
   "cell_type": "code",
   "execution_count": null,
   "metadata": {},
   "outputs": [],
   "source": [
    "import pika"
   ]
  },
  {
   "cell_type": "markdown",
   "metadata": {},
   "source": [
    "## Setting Up RabbitMQ Server Using Docker\n",
    "\n",
    "We will use Docker to set up a RabbitMQ server, which is easy and avoids any manual installation.\n",
    "\n",
    "### Pull RabbitMQ Docker Image\n",
    "\n",
    "We’ll start by pulling the official RabbitMQ Docker image."
   ]
  },
  {
   "cell_type": "code",
   "execution_count": null,
   "metadata": {},
   "outputs": [],
   "source": [
    "!docker pull rabbitmq:3-management"
   ]
  },
  {
   "cell_type": "markdown",
   "metadata": {},
   "source": [
    "The `3-management` tag includes the RabbitMQ Management Plugin, allowing you to monitor and manage the RabbitMQ server through a web interface.\n",
    "\n",
    "### Run the RabbitMQ Container\n",
    "\n",
    "Now, let's run RabbitMQ in a Docker container. We will expose two ports:\n",
    "- **5672**: The default port for RabbitMQ.\n",
    "- **15672**: The web management interface."
   ]
  },
  {
   "cell_type": "code",
   "execution_count": null,
   "metadata": {},
   "outputs": [],
   "source": [
    "!docker run -d --name rabbitmq-server -p 5672:5672 -p 15672:15672 rabbitmq:3-management"
   ]
  },
  {
   "cell_type": "markdown",
   "metadata": {},
   "source": [
    "### Access the RabbitMQ Management Interface\n",
    "\n",
    "After running the above command, RabbitMQ will be accessible through the web interface. Open a browser and visit:\n",
    "[http://localhost:15672](http://localhost:15672)\n",
    "\n",
    "Use the default credentials to log in:\n",
    "- Username: `guest`\n",
    "- Password: `guest`\n",
    "\n",
    "## Understanding RabbitMQ Concepts\n",
    "\n",
    "Before we jump into code, let's review the core RabbitMQ concepts:\n",
    "\n",
    "- **Producer**: A producer sends messages to RabbitMQ.\n",
    "- **Consumer**: A consumer receives messages from RabbitMQ.\n",
    "- **Queue**: A buffer that stores messages until they are consumed.\n",
    "- **Exchange**: A mechanism that routes messages to one or more queues based on rules.\n",
    "\n",
    "## Sending Messages to RabbitMQ (Producer)\n",
    "\n",
    "Now that the RabbitMQ server is up and running, let's write a Python script to send a message to a queue.\n",
    "\n",
    "First, we'll import the necessary libraries:"
   ]
  },
  {
   "cell_type": "code",
   "execution_count": null,
   "metadata": {},
   "outputs": [],
   "source": [
    "import pika"
   ]
  },
  {
   "cell_type": "markdown",
   "metadata": {},
   "source": [
    "### Establish Connection to RabbitMQ\n",
    "\n",
    "We need to establish a connection to the RabbitMQ server running on `localhost`."
   ]
  },
  {
   "cell_type": "code",
   "execution_count": null,
   "metadata": {},
   "outputs": [],
   "source": [
    "def get_connection():\n",
    "    connection = pika.BlockingConnection(pika.ConnectionParameters('localhost'))\n",
    "    return connection\n"
   ]
  },
  {
   "cell_type": "markdown",
   "metadata": {},
   "source": [
    "### Sending a Message to a Queue\n",
    "\n",
    "Let's write a function to send a message to a queue called `hello`."
   ]
  },
  {
   "cell_type": "code",
   "execution_count": null,
   "metadata": {},
   "outputs": [],
   "source": [
    "def send_message(message):\n",
    "    connection = get_connection()\n",
    "    channel = connection.channel()\n",
    "\n",
    "    # Declare a queue\n",
    "    channel.queue_declare(queue='hello')\n",
    "\n",
    "    # Publish a message to the queue\n",
    "    channel.basic_publish(exchange='',\n",
    "                          routing_key='hello',\n",
    "                          body=message)\n",
    "    print(f\" [x] Sent {message}\")\n",
    "    connection.close()\n",
    "\n",
    "# Test sending a message\n",
    "send_message(\"Hello from RabbitMQ!\")"
   ]
  },
  {
   "cell_type": "markdown",
   "metadata": {},
   "source": [
    "After a few seconds, you should see some stats appear on the RabbitMQ dashboard under 'Totals', indicating that messages were sent."
   ]
  },
  {
   "cell_type": "markdown",
   "metadata": {},
   "source": [
    "**Explanation**:\n",
    "- **`queue_declare`**: This ensures that the queue exists before we send a message to it. If the queue doesn’t exist, it will be created.\n",
    "- **`basic_publish`**: This sends the message to the `hello` queue.\n",
    "\n",
    "## Receiving Messages from RabbitMQ (Consumer)\n",
    "\n",
    "Now let's create a consumer that listens for messages from the `hello` queue.\n",
    "\n",
    "### Defining a Consumer"
   ]
  },
  {
   "cell_type": "code",
   "execution_count": null,
   "metadata": {},
   "outputs": [],
   "source": [
    "def receive_message():\n",
    "    connection = get_connection()\n",
    "    channel = connection.channel()\n",
    "\n",
    "    # Declare the same queue\n",
    "    channel.queue_declare(queue='hello')\n",
    "\n",
    "    # Callback function to process messages\n",
    "    def callback(ch, method, properties, body):\n",
    "        print(f\" [x] Received {body}\")\n",
    "\n",
    "    # Tell RabbitMQ to deliver messages from the queue\n",
    "    channel.basic_consume(queue='hello',\n",
    "                          on_message_callback=callback,\n",
    "                          auto_ack=True)\n",
    "\n",
    "    print(' [*] Waiting for messages. To exit press Interrupt (the square at the top of the notebook)')\n",
    "    channel.start_consuming()\n",
    "\n",
    "# Start receiving messages\n",
    "receive_message()"
   ]
  },
  {
   "cell_type": "markdown",
   "metadata": {},
   "source": [
    "## Example producer script"
   ]
  },
  {
   "cell_type": "code",
   "execution_count": null,
   "metadata": {},
   "outputs": [],
   "source": [
    "%%writefile send.py\n",
    "import pika\n",
    "def get_connection():\n",
    "    connection = pika.BlockingConnection(pika.ConnectionParameters('localhost'))\n",
    "    return connection\n",
    "\n",
    "def send_message(message):\n",
    "    connection = get_connection()\n",
    "    channel = connection.channel()\n",
    "\n",
    "    # Declare a queue\n",
    "    channel.queue_declare(queue='hello')\n",
    "\n",
    "    # Publish a message to the queue\n",
    "    channel.basic_publish(exchange='',\n",
    "                          routing_key='hello',\n",
    "                          body=message)\n",
    "    print(f\" [x] Sent {message}\")\n",
    "    connection.close()\n",
    "\n",
    "# Test sending a message\n",
    "send_message(\"Hello from RabbitMQ!\")"
   ]
  },
  {
   "cell_type": "markdown",
   "metadata": {},
   "source": [
    "## Sending and Receiving Messages Together\n",
    "\n",
    "Now that we have both producer and consumer code, let's see them working together:\n",
    "1. Run the consumer in the next cell.\n",
    "2. Open a terminal in the current folder, and run `python send.py`. Repeat as you wish, to see the multiple messages arriving. Note: Messages may take a few seconds to arrive and be printed."
   ]
  },
  {
   "cell_type": "code",
   "execution_count": null,
   "metadata": {},
   "outputs": [],
   "source": [
    "# Start receiving messages\n",
    "receive_message()"
   ]
  },
  {
   "cell_type": "markdown",
   "metadata": {},
   "source": [
    "## RabbitMQ Web Management Interface\n",
    "\n",
    "You can monitor the status of queues, connections, and messages through the RabbitMQ Management Interface:\n",
    "\n",
    "- Go to http://localhost:15672\n",
    "- Log in with the default credentials (`guest`/`guest`).\n",
    "- You can see details about the `hello` queue and the messages being sent and received.\n",
    "\n",
    "## Stopping the RabbitMQ Docker Container\n",
    "\n",
    "After you're done with RabbitMQ, you can stop and remove the Docker container:"
   ]
  },
  {
   "cell_type": "code",
   "execution_count": null,
   "metadata": {},
   "outputs": [],
   "source": [
    "!docker stop rabbitmq-server\n",
    "!docker rm rabbitmq-server"
   ]
  },
  {
   "cell_type": "markdown",
   "metadata": {},
   "source": [
    "\n",
    "\n",
    "This will stop the RabbitMQ server and remove the container to free up resources.\n"
   ]
  }
 ],
 "metadata": {
  "kernelspec": {
   "display_name": "Python 3 (ipykernel)",
   "language": "python",
   "name": "python3"
  },
  "language_info": {
   "codemirror_mode": {
    "name": "ipython",
    "version": 3
   },
   "file_extension": ".py",
   "mimetype": "text/x-python",
   "name": "python",
   "nbconvert_exporter": "python",
   "pygments_lexer": "ipython3",
   "version": "3.12.3"
  }
 },
 "nbformat": 4,
 "nbformat_minor": 2
}
