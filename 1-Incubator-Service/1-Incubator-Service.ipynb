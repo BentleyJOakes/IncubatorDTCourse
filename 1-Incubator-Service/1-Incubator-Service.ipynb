{
 "cells": [
  {
   "cell_type": "markdown",
   "metadata": {},
   "source": [
    "# Average Service\n",
    "\n",
    "Since each service runs in a separate python process, we will write the python code to a file, and run it from there."
   ]
  },
  {
   "cell_type": "code",
   "execution_count": 1,
   "metadata": {},
   "outputs": [],
   "source": [
    "# Configure python path to load incubator modules\n",
    "import sys\n",
    "import os\n",
    "\n",
    "# Get the current working directory. Should be 1-Incubator-Service\n",
    "current_dir = os.getcwd()\n",
    "\n",
    "assert os.path.basename(current_dir) == '1-Incubator-Service', 'Current directory is not 1-Incubator-Service'\n",
    "\n",
    "# Get the parent directory. Should be the root of the repository\n",
    "parent_dir = os.path.dirname(current_dir)\n",
    "\n",
    "# The root of the repo should contain the incubator_dt folder. Otherwise something went wrong in 0-Pre-requisites.\n",
    "assert os.path.exists(os.path.join(parent_dir, 'incubator_dt')), 'incubator_dt folder not found in the repository root'\n",
    "\n",
    "incubator_dt_software_dir = os.path.join(parent_dir, 'incubator_dt', 'software')\n",
    "\n",
    "assert os.path.exists(incubator_dt_software_dir), 'incubator_dt software directory not found'\n",
    "\n",
    "# Add the parent directory to sys.path\n",
    "sys.path.append(incubator_dt_software_dir)"
   ]
  },
  {
   "cell_type": "code",
   "execution_count": 2,
   "metadata": {
    "execution": {
     "iopub.execute_input": "2024-10-01T13:03:23.208358Z",
     "iopub.status.busy": "2024-10-01T13:03:23.208358Z",
     "iopub.status.idle": "2024-10-01T13:03:23.217912Z",
     "shell.execute_reply": "2024-10-01T13:03:23.217912Z"
    }
   },
   "outputs": [
    {
     "name": "stdout",
     "output_type": "stream",
     "text": [
      "Overwriting average_service.py\n"
     ]
    }
   ],
   "source": [
    "%%writefile average_service.py\n",
    "\n",
    "# Configure python path to load incubator modules\n",
    "import sys\n",
    "import os\n",
    "import logging\n",
    "import logging.config\n",
    "import time\n",
    "\n",
    "# Get the current working directory. Should be 1-Incubator-Service\n",
    "current_dir = os.getcwd()\n",
    "\n",
    "assert os.path.basename(current_dir) == '1-Incubator-Service', 'Current directory is not 1-Incubator-Service'\n",
    "\n",
    "# Get the parent directory. Should be the root of the repository\n",
    "parent_dir = os.path.dirname(current_dir)\n",
    "\n",
    "# The root of the repo should contain the incubator_dt folder. Otherwise something went wrong in 0-Pre-requisites.\n",
    "assert os.path.exists(os.path.join(parent_dir, 'incubator_dt')), 'incubator_dt folder not found in the repository root'\n",
    "\n",
    "incubator_dt_software_dir = os.path.join(parent_dir, 'incubator_dt', 'software')\n",
    "\n",
    "assert os.path.exists(incubator_dt_software_dir), 'incubator_dt software directory not found'\n",
    "\n",
    "# Add the parent directory to sys.path\n",
    "sys.path.append(incubator_dt_software_dir)\n",
    "\n",
    "from incubator.communication.server.rpc_server import RPCServer\n",
    "\n",
    "class AverageService(RPCServer):\n",
    "    \"\"\"\n",
    "    This is a server service that computes the average of a given list of values.\n",
    "    It extends the RPCServer class, which is a class that listens to a RabbitMQ queue and waits for messages to arrive, and hides much of the complexity of the server service. \n",
    "    All we need to do to implement the average service is implement a method called \"compute_average\" that takes a list of values and returns the average of those values. This method will be called by the RPCServer class when a message arrives in the RabbitMQ queue containing the name of the method to call and the arguments to pass to the method.\n",
    "    \"\"\"\n",
    "    def __init__(self, rabbitmq_config):\n",
    "        super().__init__(**rabbitmq_config)\n",
    "        self._l = logging.getLogger(\"AverageService\")\n",
    "\n",
    "    def setup(self):\n",
    "        \"\"\" \n",
    "        Setup the RabbitMQ connection and declare the routing_key (this is the topic that this server will listen to) and queue (the name of the queue where all messages addressed to routing_key will be placed in by the RabbitMQ server).\n",
    "\n",
    "        We use the same name for both the routing_key and the queue name. This is not necessary, but it makes it easier to understand what is happening in the RabbitMQ server.        \n",
    "        \"\"\"\n",
    "        super(AverageService, self).setup(routing_key='incubator.dtcourse.average_service', queue_name='incubator.dtcourse.average_service')\n",
    "\n",
    "        self._l.info(f\"AverageService setup complete.\")\n",
    "\n",
    "    def compute_average(self, values, reply_fun):\n",
    "        \"\"\" \n",
    "        This is the method that will be invoked by the RPCServer class when a message arrives in the RabbitMQ queue. The reply_fun is a function that we can call to send the results back to the client that sent the message.\n",
    "        \"\"\"\n",
    "        average = 0.0\n",
    "\n",
    "        # Log the values received.\n",
    "        self._l.info(f\"compute_average called. Received values: {values}\")\n",
    "\n",
    "        # Compute the average of the values.\n",
    "        if len(values) > 0:\n",
    "            average = sum(values) / len(values)\n",
    "        else:\n",
    "            self._l.warning(\"Received an empty list of values. Cannot compute average. Returning error\")\n",
    "            reply_fun({\"error\": \"Received an empty list of values. Cannot compute average.\"})\n",
    "            return\n",
    "\n",
    "        # Prepare the results to send back.\n",
    "        result_msg = {\n",
    "            \"average\": average\n",
    "        }\n",
    "\n",
    "        # Send results back.\n",
    "        reply_fun(result_msg)\n",
    "    \n",
    "if __name__ == \"__main__\":\n",
    "    # Get utility functions to config logging and load configuration\n",
    "    from incubator.config.config import load_config\n",
    "    from pyhocon import ConfigFactory\n",
    "\n",
    "    # Get logging configuration\n",
    "    logging.config.fileConfig(\"logging.conf\")\n",
    "\n",
    "    # Get path to the startup.conf file used in the incubator dt:\n",
    "    startup_conf = os.path.join(os.path.dirname(os.getcwd()), 'incubator_dt', 'software','startup.conf')\n",
    "    assert os.path.exists(startup_conf), 'startup.conf file not found'\n",
    "\n",
    "    # The startup.conf comes from the incubator dt repository.\n",
    "    config = ConfigFactory.parse_file(startup_conf)\n",
    "    service = AverageService(rabbitmq_config=config[\"rabbitmq\"])\n",
    "\n",
    "    service.setup()\n",
    "    \n",
    "    # Start the AverageService\n",
    "    service.start_serving()"
   ]
  },
  {
   "cell_type": "code",
   "execution_count": 3,
   "metadata": {},
   "outputs": [
    {
     "name": "stdout",
     "output_type": "stream",
     "text": [
      "37968\n"
     ]
    }
   ],
   "source": [
    "# You can run this, or you can run the command below in a new terminal windows to start the service\n",
    "\n",
    "import subprocess\n",
    "import time\n",
    "\n",
    "# Start a process asynchronously\n",
    "avg_service_proc = subprocess.Popen([\"python\", \"average_service.py\"])\n",
    "\n",
    "# Wait for 5 seconds for the process to start\n",
    "time.sleep(5)\n",
    "\n",
    "# Print the PID of the process. You can search for this in your task manager to see the process running and kill it if necessary.\n",
    "print(avg_service_proc.pid)"
   ]
  },
  {
   "cell_type": "code",
   "execution_count": 4,
   "metadata": {},
   "outputs": [
    {
     "name": "stdout",
     "output_type": "stream",
     "text": [
      "2024-10-19 10:15:13.683 DEBUG AverageService : Connected.\n",
      "2024-10-19 10:15:13.692 DEBUG AverageService : Ready to listen for msgs in queue incubator.dtcourse.average_service bound to topic incubator.dtcourse.average_service\n",
      "2024-10-19 10:15:13.692 INFO AverageService : AverageService setup complete.\n",
      "\n"
     ]
    }
   ],
   "source": [
    "# Print contents of log file to verify that the service is running\n",
    "with open('AverageService.log', 'r') as f:\n",
    "    print(f.read())\n"
   ]
  },
  {
   "cell_type": "markdown",
   "metadata": {},
   "source": [
    "Now that the service is running let us send a request message to execute an operation."
   ]
  },
  {
   "cell_type": "code",
   "execution_count": 5,
   "metadata": {},
   "outputs": [
    {
     "name": "stdout",
     "output_type": "stream",
     "text": [
      "{'average': 3.0}\n"
     ]
    }
   ],
   "source": [
    "# Import RPCClient class from incubator, which makes connecting to RabbitMQ and calling remote methods easy.\n",
    "from incubator.communication.server.rpc_client import RPCClient\n",
    "from pyhocon import ConfigFactory\n",
    "\n",
    "# Get config\n",
    "startup_conf = os.path.join(os.path.dirname(os.getcwd()), 'incubator_dt', 'software','startup.conf')\n",
    "config = ConfigFactory.parse_file(startup_conf)\n",
    "\n",
    "with RPCClient(**(config[\"rabbitmq\"])) as client:\n",
    "    reply = client.invoke_method(\"incubator.dtcourse.average_service\", \"compute_average\", {\"values\": [1.0, 2.0, 3.0, 4.0, 5.0]})\n",
    "    print(reply)\n",
    "    assert 2.9 < reply[\"average\"] < 3.1, \"Average is not 3.0\"\n",
    "\n",
    "# Check process hasn't crashed\n",
    "assert avg_service_proc.poll() is None, \"Average service process has crashed\""
   ]
  },
  {
   "cell_type": "code",
   "execution_count": 6,
   "metadata": {},
   "outputs": [
    {
     "name": "stdout",
     "output_type": "stream",
     "text": [
      "{'error': 'Received an empty list of values. Cannot compute average.'}\n"
     ]
    }
   ],
   "source": [
    "# Now send something non sensical, to get an error:\n",
    "with RPCClient(**(config[\"rabbitmq\"])) as client:\n",
    "    reply = client.invoke_method(\"incubator.dtcourse.average_service\", \"compute_average\", {\"values\": []})\n",
    "    print(reply)\n",
    "    assert \"error\" in reply, \"Error not received\"\n",
    "\n",
    "# Check process hasn't crashed\n",
    "assert avg_service_proc.poll() is None, \"Average service process has crashed\""
   ]
  },
  {
   "cell_type": "code",
   "execution_count": 7,
   "metadata": {},
   "outputs": [
    {
     "name": "stdout",
     "output_type": "stream",
     "text": [
      "{'error': 'Method specified does not exist: some_other_method.'}\n"
     ]
    }
   ],
   "source": [
    "with RPCClient(**(config[\"rabbitmq\"])) as client:\n",
    "    reply = client.invoke_method(\"incubator.dtcourse.average_service\", \"some_other_method\", {\"values\": []})\n",
    "    print(reply)\n",
    "    assert \"error\" in reply, \"Error not received\"\n",
    "\n",
    "# Check process hasn't crashed\n",
    "assert avg_service_proc.poll() is None, \"Average service process has crashed\""
   ]
  },
  {
   "cell_type": "code",
   "execution_count": 8,
   "metadata": {},
   "outputs": [
    {
     "name": "stdout",
     "output_type": "stream",
     "text": [
      "2024-10-19 10:15:13.683 DEBUG AverageService : Connected.\n",
      "2024-10-19 10:15:13.692 DEBUG AverageService : Ready to listen for msgs in queue incubator.dtcourse.average_service bound to topic incubator.dtcourse.average_service\n",
      "2024-10-19 10:15:13.692 INFO AverageService : AverageService setup complete.\n",
      "2024-10-19 10:15:18.623 DEBUG AverageService : Message received: \n",
      "f{'method': 'compute_average', 'args': {'values': [1.0, 2.0, 3.0, 4.0, 5.0]}}\n",
      "2024-10-19 10:15:18.623 DEBUG AverageService : routing_key_reply = famq.gen-3cE6PKzZjjCVF_grJPEvCg\n",
      "2024-10-19 10:15:18.623 DEBUG AverageService : request_id = fc8e9091a-3e93-46d4-86b5-1a4652aaa5ad\n",
      "2024-10-19 10:15:18.623 INFO AverageService : compute_average called. Received values: [1.0, 2.0, 3.0, 4.0, 5.0]\n",
      "2024-10-19 10:15:18.623 DEBUG AverageService : Sending reply msg:\n",
      "{'average': 3.0}\n",
      "2024-10-19 10:15:18.793 DEBUG AverageService : Message received: \n",
      "f{'method': 'compute_average', 'args': {'values': []}}\n",
      "2024-10-19 10:15:18.793 DEBUG AverageService : routing_key_reply = famq.gen-0fbvhDv1A7Lcqfp7sv2i5Q\n",
      "2024-10-19 10:15:18.793 DEBUG AverageService : request_id = f69510419-f75b-4ce7-97eb-e0f4cddc3d0d\n",
      "2024-10-19 10:15:18.793 INFO AverageService : compute_average called. Received values: []\n",
      "2024-10-19 10:15:18.793 WARNING AverageService : Received an empty list of values. Cannot compute average. Returning error\n",
      "2024-10-19 10:15:18.793 DEBUG AverageService : Sending reply msg:\n",
      "{'error': 'Received an empty list of values. Cannot compute average.'}\n",
      "2024-10-19 10:15:18.913 DEBUG AverageService : Message received: \n",
      "f{'method': 'some_other_method', 'args': {'values': []}}\n",
      "2024-10-19 10:15:18.914 DEBUG AverageService : routing_key_reply = famq.gen-5mXrPVjUhsSmeUd5AUIRQg\n",
      "2024-10-19 10:15:18.914 DEBUG AverageService : request_id = fd7f03a0f-909a-44c6-835a-ce91dadcc95f\n",
      "2024-10-19 10:15:18.914 WARNING AverageService : Method specified does not exist: some_other_method. Message:\n",
      "{'method': 'some_other_method', 'args': {'values': []}}\n",
      "2024-10-19 10:15:18.914 DEBUG AverageService : Sending reply msg:\n",
      "{'error': 'Method specified does not exist: some_other_method.'}\n",
      "\n"
     ]
    }
   ],
   "source": [
    "# Print contents of log file to check that the service received the request and sent a response\n",
    "with open('AverageService.log', 'r') as f:\n",
    "    print(f.read())"
   ]
  },
  {
   "cell_type": "code",
   "execution_count": 9,
   "metadata": {},
   "outputs": [],
   "source": [
    "# Terminate process forcefully. This is the simplest and most readable way to terminate services, as most resources are automatically cleaned by the rabbitmq classes. Not recommended for a production environment though.\n",
    "\n",
    "avg_service_proc.terminate() # Terminate the process. Send SIGTERM signal to the process. The process can catch this signal and perform cleanup operations before exiting, so we wait.\n",
    "avg_service_proc.wait()  # Wait for the process to exit fully. Should print exit code 1, due to interruption.\n",
    "\n",
    "# Ensure process has exited\n",
    "assert avg_service_proc.returncode is not None, 'Process has not exited'"
   ]
  }
 ],
 "metadata": {
  "kernelspec": {
   "display_name": "Python 3",
   "language": "python",
   "name": "python3"
  },
  "language_info": {
   "codemirror_mode": {
    "name": "ipython",
    "version": 3
   },
   "file_extension": ".py",
   "mimetype": "text/x-python",
   "name": "python",
   "nbconvert_exporter": "python",
   "pygments_lexer": "ipython3",
   "version": "3.11.2"
  }
 },
 "nbformat": 4,
 "nbformat_minor": 2
}
