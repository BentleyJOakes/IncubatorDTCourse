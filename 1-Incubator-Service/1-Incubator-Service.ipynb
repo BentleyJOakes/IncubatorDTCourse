{
 "cells": [
  {
   "cell_type": "markdown",
   "metadata": {},
   "source": [
    "# Your First Incubator Service\n",
    "\n",
    "This notebook assumes that the incubator DT is already running.\n",
    "If not:\n",
    "1. Please skim through the documentation of the incubator digital twin and pay a special attention to how the containers are set up for communication and time series database. You will see that they follow a similar approach to what has been proposed in the [pre-requisites tutorials](../0-Pre-requisites).\n",
    "2. Make sure there are no docker containers running, to avoid clashes with the containers used by the incubator DT.\n",
    "3. Follow the instructions in the [incubator_dt repository README](../incubator_dt/README.md) (section `Running the Digital Twin`) to get it started (by means of running the [start_all_services.py](../incubator_dt/software/startup/start_all_services.py) script), with the following adjustments:\n",
    "   1. If you wish, you can reuse the virtual environment you have possibly already created in the current repository.\n",
    "   2. **Note** that the initial setup may take some time, as the docker images are being built.\n",
    "\n",
    "After the incubator DT is running, you should be able to see an output like the following:\n",
    "````\n",
    "time           execution_interval  elapsed  heater_on  fan_on   room   box_air_temperature  state \n",
    "19/11 16:17:59  3.00                0.01     True       False   10.70  19.68                Heating\n",
    "19/11 16:18:02  3.00                0.03     True       True    10.70  19.57                Heating\n",
    "19/11 16:18:05  3.00                0.01     True       True    10.70  19.57                Heating\n",
    "19/11 16:18:08  3.00                0.01     True       True    10.69  19.47                Heating\n",
    "19/11 16:18:11  3.00                0.01     True       True    10.69  19.41                Heating\n",
    "````\n",
    "\n",
    "If that's the case, continue running this notebook.\n",
    "\n",
    "## What is a Digital Twin (DT) Service?\n",
    "\n",
    "In the context of the incubator digital twin, a service is a process that communicates via a [RabbitMQ message exchange](https://www.rabbitmq.com/), running within a [Docker](https://www.docker.com/products/docker-desktop) container. \n",
    "\n",
    "### Types of DT Services\n",
    "\n",
    "Currently, there are two types of services:\n",
    "\n",
    "1. **Server Services**  \n",
    "   These services operate similarly to a client-server model. They perform actions only in response to RabbitMQ messages that encapsulate requests for specific computations. Once the computation is completed, the result is sent back as a RabbitMQ message in response to the original request.\n",
    "\n",
    "2. **Reactive Services**  \n",
    "   These services subscribe to a particular RabbitMQ topic. When a message arrives on the subscribed topic, they perform a computation and publish the result to another RabbitMQ topic. Other services can then subscribe to the topic where the result is published, allowing a chain of computations across services.\n",
    "\n",
    "### Example Services\n",
    "\n",
    "The following examples demonstrate one of each service type, including a mixed service that both acts as a client server, but also has ongoing computation as a reactive service. The examples also make the services communicate with each other and the incubator physical twin. Altogether these services give you everything you need to build your own digital twin services using rabbitmq.\n",
    "\n",
    "- **AverageService**: This is a server service that computes the average of a given list of values.\n",
    "- **MovingAverageTemperatureService**: This is a hybrid service that maintains a moving average of the last N values of the temperature in the incubator. It communicates with the average service to get the average. In addition, as a server, it responds to requests to reset the moving average.\n",
    "- **PTReconfigurationService**: This is a reactive service that reconfigures the incubator physical twin whenever the difference between the temperature moving average and the actual temperature is high. It uses the values of the `MovingAverageTemperatureService`.\n",
    "\n",
    "### Configuration\n",
    "\n",
    "Most services use the configuration file located at the [startup.conf](../incubator_dt/software/startup.conf) of the incubator DT project for parameters such as RabbitMQ connection details and other settings."
   ]
  },
  {
   "cell_type": "markdown",
   "metadata": {},
   "source": [
    "## Setting up dependencies\n",
    "\n",
    "First we're going to set up the PYTHONPATH so that we can load the python code from the [incubator DT repository](../incubator_dt/software/)."
   ]
  },
  {
   "cell_type": "code",
   "execution_count": 1,
   "metadata": {},
   "outputs": [],
   "source": [
    "# Configure python path to load incubator modules\n",
    "import sys\n",
    "import os\n",
    "\n",
    "# Get the current working directory. Should be 1-Incubator-Service\n",
    "current_dir = os.getcwd()\n",
    "\n",
    "assert os.path.basename(current_dir) == '1-Incubator-Service', 'Current directory is not 1-Incubator-Service'\n",
    "\n",
    "# Get the parent directory. Should be the root of the repository\n",
    "parent_dir = os.path.dirname(current_dir)\n",
    "\n",
    "# The root of the repo should contain the incubator_dt folder. Otherwise something went wrong in 0-Pre-requisites.\n",
    "assert os.path.exists(os.path.join(parent_dir, 'incubator_dt')), 'incubator_dt folder not found in the repository root'\n",
    "\n",
    "incubator_dt_software_dir = os.path.join(parent_dir, 'incubator_dt', 'software')\n",
    "\n",
    "assert os.path.exists(incubator_dt_software_dir), 'incubator_dt software directory not found'\n",
    "\n",
    "# Add the parent directory to sys.path\n",
    "sys.path.append(incubator_dt_software_dir)"
   ]
  },
  {
   "cell_type": "code",
   "execution_count": 2,
   "metadata": {},
   "outputs": [],
   "source": [
    "# After the above, we should be able to import incubator modules\n",
    "\n",
    "# The following imports a class that makes it easier to interact with the RabbitMQ server, just to test the above code.\n",
    "from incubator.communication.server.rabbitmq import Rabbitmq"
   ]
  },
  {
   "cell_type": "markdown",
   "metadata": {},
   "source": [
    "## Logging configuration for services\n",
    "\n",
    "Each service will use the standard logging framework from Python. We use a single logging configuration file for all services, and adjust it as needed. This makes it easier to quickly configure the logging for the different services we will create.\n",
    "\n",
    "The logging configuration in the next cell defines at least two loggers (`root` and `AverageService`), two handlers (`consoleHandler` and `AverageServiceFileHandler`), and one formatter (`simpleFormatter`). Here's a detailed explanation of what each section does:\n",
    "\n",
    "### 1. **Loggers**\n",
    "Loggers are components that generate log messages. This configuration defines at least two loggers:\n",
    "- `root`: This is the default logger that all other loggers inherit from unless otherwise specified. It will capture log messages from the entire application.\n",
    "- `AverageService`: This is a specific logger named `AverageService`, which logs messages related to the `AverageService` component.\n",
    "\n",
    "### 2. **Handlers**\n",
    "Handlers are responsible for deciding where the log messages go (e.g., to a file, console, etc.). This configuration defines at least two handlers:\n",
    "- `consoleHandler`: Sends log messages to the console (or terminal) using `sys.stdout`.\n",
    "- `AverageServiceFileHandler`: Sends log messages from the `AverageService` logger to a file named `AverageService.log`. It opens the file in write mode (`'w'`), meaning it will overwrite the file each time the logger is used.\n",
    "\n",
    "### 3. **Formatters**\n",
    "The formatter defines the format of the log messages:\n",
    "- **`simpleFormatter`**: This formatter formats log messages with the following pattern:  \n",
    "  `%(asctime)s.%(msecs)03d %(levelname)s %(name)s : %(message)s`  \n",
    "  - `%(asctime)s`: Timestamp of the log event.\n",
    "  - `%(msecs)03d`: Milliseconds portion of the time, padded to 3 digits.\n",
    "  - `%(levelname)s`: The log level (e.g., DEBUG, INFO).\n",
    "  - `%(name)s`: The name of the logger (e.g., `AverageService`).\n",
    "  - `%(message)s`: The actual log message.\n",
    "  \n",
    "  The `datefmt` specifies the date format as `'%Y-%m-%d %H:%M:%S'`.\n",
    "\n",
    "### 4. **Logging Configuration Details**\n",
    "\n",
    "#### **[loggers]**\n",
    "```ini\n",
    "[loggers]\n",
    "keys=root,AverageService\n",
    "```\n",
    "- This section defines at least two loggers, `root` and `AverageService`.\n",
    "\n",
    "#### **[logger_root]**\n",
    "```ini\n",
    "[logger_root]\n",
    "level=DEBUG\n",
    "handlers=consoleHandler\n",
    "```\n",
    "- The `root` logger is set to capture log messages at the `DEBUG` level or higher. The `consoleHandler` is used to send these log messages to the console.\n",
    "\n",
    "#### **[logger_AverageService]**\n",
    "```ini\n",
    "[logger_AverageService]\n",
    "level=DEBUG\n",
    "handlers=AverageServiceFileHandler\n",
    "qualname=AverageService\n",
    "propagate=0\n",
    "```\n",
    "- This logger captures log messages for the `AverageService` component, at the `DEBUG` level or higher, and sends them to the `AverageService.log` file.\n",
    "- `qualname=AverageService`: This logger is used when you call `logging.getLogger('AverageService')` in your code.\n",
    "- `propagate=0`: This prevents log messages from being passed to the parent logger (i.e., the `root` logger), meaning logs from `AverageService` will not appear in the console.\n",
    "\n",
    "#### **[handlers]**\n",
    "```ini\n",
    "[handlers]\n",
    "keys=consoleHandler,AverageServiceFileHandler\n",
    "```\n",
    "- This defines at least two handlers: one for the console and one for the file.\n",
    "\n",
    "#### **[handler_consoleHandler]**\n",
    "```ini\n",
    "[handler_consoleHandler]\n",
    "class=StreamHandler\n",
    "formatter=simpleFormatter\n",
    "args=(sys.stdout,)\n",
    "```\n",
    "- This handler sends log messages to the console (standard output).\n",
    "- It uses the `simpleFormatter` to format the log messages.\n",
    "\n",
    "#### **[handler_AverageServiceFileHandler]**\n",
    "```ini\n",
    "[handler_AverageServiceFileHandler]\n",
    "class=FileHandler\n",
    "formatter=simpleFormatter\n",
    "args=('AverageService.log', 'w')\n",
    "```\n",
    "- This handler sends log messages to the `AverageService.log` file.\n",
    "- The file is opened in write mode (`'w'`), meaning the contents are overwritten each time logging occurs.\n",
    "- It also uses the `simpleFormatter` for formatting log messages.\n",
    "\n",
    "### 5. **How It Works in Practice**\n",
    "\n",
    "- **Root Logger**: Any logs from the rest of your application that don't specify a logger will be handled by the `root` logger. These logs will appear in the console.\n",
    "- **AverageService Logger**: Logs specifically generated by `logging.getLogger('AverageService')` will be written to the `AverageService.log` file. These logs will not propagate to the `root` logger, meaning they won’t appear in the console.\n",
    "\n",
    "### Example Usage:\n",
    "\n",
    "```python\n",
    "import logging\n",
    "import logging.config\n",
    "\n",
    "# Load the logging configuration\n",
    "logging.config.fileConfig('logging.conf')\n",
    "\n",
    "# Get the AverageService logger\n",
    "average_service_logger = logging.getLogger('AverageService')\n",
    "\n",
    "# Log a message using AverageService logger\n",
    "average_service_logger.debug(\"This is a debug message for AverageService.\")\n",
    "\n",
    "# Log a message using the root logger\n",
    "logging.debug(\"This is a debug message for root.\")\n",
    "```\n",
    "\n",
    "- **Message for `AverageService`**: Will be logged in `AverageService.log`.\n",
    "- **Message for `root`**: Will appear in the console."
   ]
  },
  {
   "cell_type": "code",
   "execution_count": 3,
   "metadata": {},
   "outputs": [
    {
     "name": "stdout",
     "output_type": "stream",
     "text": [
      "Overwriting logging.conf\n"
     ]
    }
   ],
   "source": [
    "%%writefile logging.conf\n",
    "[loggers]\n",
    "keys=root,AverageService\n",
    "\n",
    "[handlers]\n",
    "keys=consoleHandler,AverageServiceFileHandler\n",
    "\n",
    "[formatters]\n",
    "keys=simpleFormatter\n",
    "\n",
    "[logger_root]\n",
    "level=DEBUG\n",
    "handlers=consoleHandler\n",
    "\n",
    "[logger_AverageService]\n",
    "level=DEBUG\n",
    "handlers=AverageServiceFileHandler\n",
    "qualname=AverageService\n",
    "propagate=0\n",
    "\n",
    "[handler_consoleHandler]\n",
    "class=StreamHandler\n",
    "formatter=simpleFormatter\n",
    "args=(sys.stdout,)\n",
    "\n",
    "[handler_AverageServiceFileHandler]\n",
    "class=FileHandler\n",
    "formatter=simpleFormatter\n",
    "args=('AverageService.log', 'w')\n",
    "\n",
    "[formatter_simpleFormatter]\n",
    "format=%(asctime)s.%(msecs)03d %(levelname)s %(name)s : %(message)s\n",
    "datefmt=%Y-%m-%d %H:%M:%S"
   ]
  },
  {
   "cell_type": "markdown",
   "metadata": {},
   "source": [
    "## Connection configuration for services\n",
    "\n",
    "In addition, all services will use the configuration from the startup.conf file, available inside the incubator repository:"
   ]
  },
  {
   "cell_type": "code",
   "execution_count": 4,
   "metadata": {},
   "outputs": [
    {
     "name": "stdout",
     "output_type": "stream",
     "text": [
      "rabbitmq: {\n",
      "    ip = \"localhost\"\n",
      "    port = 5672\n",
      "    username = incubator\n",
      "    password = incubator\n",
      "    exchange = Incubator_AMQP\n",
      "    type = topic\n",
      "    vhost = /\n",
      "    # ssl: {   # Enable for ssl support. Only works if the RabbitMQ server is configured to support it.\n",
      "    #     protocol: \"PROTOCOL_TLS\",\n",
      "    #     ciphers : \"ECDHE+AESGCM:!ECDSA\"\n",
      "    # }\n",
      "}\n",
      "influxdb: {\n",
      "    url = http://localhost:8086\n",
      "    token = \"-g7q1xIvZqY8BA82zC7uMmJS1zeTj61SQjDCY40DkY6IpPBpvna2YoQPdSeENiekgVLMd91xA95smSkhhbtO7Q==\"\n",
      "    org = incubator\n",
      "    bucket = incubator\n",
      "}\n",
      "physical_twin: {\n",
      "    controller: {\n",
      "        temperature_desired = 35.0,\n",
      "        lower_bound = 5.0,\n",
      "        heating_time = 20.0,\n",
      "        heating_gap = 30.0\n",
      "    }\n",
      "    controller_open_loop: {\n",
      "        n_samples_period = 40,\n",
      "        n_samples_heating = 5,\n",
      "    }\n",
      "}\n",
      "digital_twin: {\n",
      "    models: {\n",
      "        plant: {\n",
      "            param4: {\n",
      "                C_air = 267.55929458,\n",
      "                G_box = 0.5763498,\n",
      "                C_heater = 329.25376821,\n",
      "                G_heater = 1.67053237,\n",
      "                V_heater = 12.15579391,\n",
      "                I_heater = 1.53551347,\n",
      "                initial_box_temperature = 21\n",
      "                initial_heat_temperature = 21\n",
      "            }\n",
      "        }\n",
      "    }\n",
      "}\n"
     ]
    }
   ],
   "source": [
    "# Print contents of startup.conf file\n",
    "startup_conf = os.path.join(os.path.dirname(os.getcwd()), 'incubator_dt', 'software','startup.conf')\n",
    "assert os.path.exists(startup_conf), 'startup.conf file not found'\n",
    "with open(startup_conf, 'r') as f:\n",
    "    print(f.read())\n"
   ]
  },
  {
   "cell_type": "markdown",
   "metadata": {},
   "source": [
    "## AverageService\n",
    "\n",
    "Since each service runs in a separate python process, we will write the python code to a file, and run it from there."
   ]
  },
  {
   "cell_type": "code",
   "execution_count": 5,
   "metadata": {
    "execution": {
     "iopub.execute_input": "2024-10-01T13:03:23.208358Z",
     "iopub.status.busy": "2024-10-01T13:03:23.208358Z",
     "iopub.status.idle": "2024-10-01T13:03:23.217912Z",
     "shell.execute_reply": "2024-10-01T13:03:23.217912Z"
    }
   },
   "outputs": [
    {
     "name": "stdout",
     "output_type": "stream",
     "text": [
      "Overwriting averageservice.py\n"
     ]
    }
   ],
   "source": [
    "%%writefile averageservice.py\n",
    "\n",
    "# Configure python path to load incubator modules\n",
    "import sys\n",
    "import os\n",
    "import logging\n",
    "import logging.config\n",
    "import time\n",
    "\n",
    "# Get the current working directory. Should be 1-Incubator-Service\n",
    "current_dir = os.getcwd()\n",
    "\n",
    "assert os.path.basename(current_dir) == '1-Incubator-Service', 'Current directory is not 1-Incubator-Service'\n",
    "\n",
    "# Get the parent directory. Should be the root of the repository\n",
    "parent_dir = os.path.dirname(current_dir)\n",
    "\n",
    "# The root of the repo should contain the incubator_dt folder. Otherwise something went wrong in 0-Pre-requisites.\n",
    "assert os.path.exists(os.path.join(parent_dir, 'incubator_dt')), 'incubator_dt folder not found in the repository root'\n",
    "\n",
    "incubator_dt_software_dir = os.path.join(parent_dir, 'incubator_dt', 'software')\n",
    "\n",
    "assert os.path.exists(incubator_dt_software_dir), 'incubator_dt software directory not found'\n",
    "\n",
    "# Add the parent directory to sys.path\n",
    "sys.path.append(incubator_dt_software_dir)\n",
    "\n",
    "from incubator.communication.server.rpc_server import RPCServer\n",
    "\n",
    "class AverageService(RPCServer):\n",
    "    \"\"\"\n",
    "    This is a server service that computes the average of a given list of values.\n",
    "    It extends the RPCServer class, which is a class that listens to a RabbitMQ queue and waits for messages to arrive, and hides much of the complexity of the server service. \n",
    "    All we need to do to implement the average service is implement a method called \"compute_average\" that takes a list of values and returns the average of those values. This method will be called by the RPCServer class when a message arrives in the RabbitMQ queue containing the name of the method to call and the arguments to pass to the method.\n",
    "    \"\"\"\n",
    "    def __init__(self, rabbitmq_config):\n",
    "        super().__init__(**rabbitmq_config)\n",
    "        self._l = logging.getLogger(\"AverageService\")\n",
    "\n",
    "    def setup(self):\n",
    "        \"\"\" \n",
    "        Setup the RabbitMQ connection and declare the routing_key (this is the topic that this server will listen to) and queue (the name of the queue where all messages addressed to routing_key will be placed in by the RabbitMQ server).\n",
    "\n",
    "        We use the same name for both the routing_key and the queue name. This is not necessary, but it makes it easier to understand what is happening in the RabbitMQ server.        \n",
    "        \"\"\"\n",
    "        super(AverageService, self).setup(routing_key='dtcourse.incubator.averageservice', queue_name='dtcourse.incubator.averageservice')\n",
    "\n",
    "        self._l.info(f\"AverageService setup complete.\")\n",
    "\n",
    "    def compute_average(self, values, reply_fun):\n",
    "        \"\"\" \n",
    "        This is the method that will be invoked by the RPCServer class when a message arrives in the RabbitMQ queue. The reply_fun is a function that we can call to send the results back to the client that sent the message.\n",
    "        \"\"\"\n",
    "        average = 0.0\n",
    "\n",
    "        # Log the values received.\n",
    "        self._l.info(f\"compute_average called. Received values: {values}\")\n",
    "\n",
    "        # Compute the average of the values.\n",
    "        if len(values) > 0:\n",
    "            average = sum(values) / len(values)\n",
    "        else:\n",
    "            self._l.warning(\"Received an empty list of values. Cannot compute average. Returning error\")\n",
    "            reply_fun({\"error\": \"Received an empty list of values. Cannot compute average.\"})\n",
    "            return\n",
    "\n",
    "        # Prepare the results to send back.\n",
    "        result_msg = {\n",
    "            \"average\": average\n",
    "        }\n",
    "\n",
    "        # Send results back.\n",
    "        reply_fun(result_msg)\n",
    "    \n",
    "if __name__ == \"__main__\":\n",
    "    # Get utility functions to config logging and load configuration\n",
    "    from incubator.config.config import load_config\n",
    "    from pyhocon import ConfigFactory\n",
    "\n",
    "    # Get logging configuration\n",
    "    logging.config.fileConfig(\"logging.conf\")\n",
    "\n",
    "    # Get path to the startup.conf file used in the incubator dt:\n",
    "    startup_conf = os.path.join(os.path.dirname(os.getcwd()), 'incubator_dt', 'software','startup.conf')\n",
    "    assert os.path.exists(startup_conf), 'startup.conf file not found'\n",
    "\n",
    "    # The startup.conf comes from the incubator dt repository.\n",
    "    config = ConfigFactory.parse_file(startup_conf)\n",
    "    service = AverageService(rabbitmq_config=config[\"rabbitmq\"])\n",
    "\n",
    "    service.setup()\n",
    "    \n",
    "    # Start the AverageService\n",
    "    service.start_serving()"
   ]
  },
  {
   "cell_type": "code",
   "execution_count": 6,
   "metadata": {},
   "outputs": [
    {
     "name": "stdout",
     "output_type": "stream",
     "text": [
      "9628\n"
     ]
    }
   ],
   "source": [
    "import subprocess\n",
    "import time\n",
    "\n",
    "# Start a process asynchronously\n",
    "avg_service_proc = subprocess.Popen([\"python\", \"averageservice.py\"])\n",
    "\n",
    "# Wait for 5 seconds for the process to start\n",
    "time.sleep(5)\n",
    "\n",
    "# Print the PID of the process. You can search for this in your task manager to see the process running and kill it if necessary.\n",
    "print(avg_service_proc.pid)"
   ]
  },
  {
   "cell_type": "code",
   "execution_count": 7,
   "metadata": {},
   "outputs": [
    {
     "name": "stdout",
     "output_type": "stream",
     "text": [
      "2024-10-18 11:09:59.031 DEBUG AverageService : Ready to listen for msgs in queue dtcourse.incubator.averageservice bound to topic dtcourse.incubator.averageservice\n",
      "2024-10-18 11:09:59.031 INFO AverageService : AverageService setup complete.\n",
      "\n"
     ]
    }
   ],
   "source": [
    "# Print contents of log file to verify that the service is running\n",
    "with open('AverageService.log', 'r') as f:\n",
    "    print(f.read())\n"
   ]
  },
  {
   "cell_type": "markdown",
   "metadata": {},
   "source": [
    "Now that the service is running let us send a request message to execute an operation."
   ]
  },
  {
   "cell_type": "code",
   "execution_count": 8,
   "metadata": {},
   "outputs": [
    {
     "name": "stdout",
     "output_type": "stream",
     "text": [
      "{'average': 3.0}\n"
     ]
    }
   ],
   "source": [
    "# Import RPCClient class from incubator, which makes connecting to RabbitMQ and calling remote methods easy.\n",
    "from incubator.communication.server.rpc_client import RPCClient\n",
    "from pyhocon import ConfigFactory\n",
    "\n",
    "# Get config\n",
    "startup_conf = os.path.join(os.path.dirname(os.getcwd()), 'incubator_dt', 'software','startup.conf')\n",
    "config = ConfigFactory.parse_file(startup_conf)\n",
    "\n",
    "with RPCClient(**(config[\"rabbitmq\"])) as client:\n",
    "    reply = client.invoke_method(\"dtcourse.incubator.averageservice\", \"compute_average\", {\"values\": [1.0, 2.0, 3.0, 4.0, 5.0]})\n",
    "    print(reply)\n",
    "    assert 2.9 < reply[\"average\"] < 3.1, \"Average is not 3.0\""
   ]
  },
  {
   "cell_type": "code",
   "execution_count": 9,
   "metadata": {},
   "outputs": [
    {
     "name": "stdout",
     "output_type": "stream",
     "text": [
      "{'error': 'Received an empty list of values. Cannot compute average.'}\n"
     ]
    }
   ],
   "source": [
    "# Now send something non sensical, to get an error:\n",
    "with RPCClient(**(config[\"rabbitmq\"])) as client:\n",
    "    reply = client.invoke_method(\"dtcourse.incubator.averageservice\", \"compute_average\", {\"values\": []})\n",
    "    print(reply)\n",
    "    assert \"error\" in reply, \"Error not received\"\n"
   ]
  },
  {
   "cell_type": "code",
   "execution_count": 10,
   "metadata": {},
   "outputs": [
    {
     "name": "stdout",
     "output_type": "stream",
     "text": [
      "{'error': 'Method specified does not exist: some_other_method.'}\n"
     ]
    }
   ],
   "source": [
    "with RPCClient(**(config[\"rabbitmq\"])) as client:\n",
    "    reply = client.invoke_method(\"dtcourse.incubator.averageservice\", \"some_other_method\", {\"values\": []})\n",
    "    print(reply)\n",
    "    assert \"error\" in reply, \"Error not received\""
   ]
  },
  {
   "cell_type": "code",
   "execution_count": 11,
   "metadata": {},
   "outputs": [
    {
     "name": "stdout",
     "output_type": "stream",
     "text": [
      "2024-10-18 11:09:59.031 DEBUG AverageService : Ready to listen for msgs in queue dtcourse.incubator.averageservice bound to topic dtcourse.incubator.averageservice\n",
      "2024-10-18 11:09:59.031 INFO AverageService : AverageService setup complete.\n",
      "2024-10-18 11:10:03.945 DEBUG AverageService : Message received: \n",
      "f{'method': 'compute_average', 'args': {'values': [1.0, 2.0, 3.0, 4.0, 5.0]}}\n",
      "2024-10-18 11:10:03.945 DEBUG AverageService : routing_key_reply = famq.gen-eiACXY4Rqag5SeIa29VjSQ\n",
      "2024-10-18 11:10:03.945 DEBUG AverageService : request_id = f891a627a-b37f-4ab0-8d0f-a3898db7e0c8\n",
      "2024-10-18 11:10:03.945 INFO AverageService : compute_average called. Received values: [1.0, 2.0, 3.0, 4.0, 5.0]\n",
      "2024-10-18 11:10:03.945 DEBUG AverageService : Sending reply msg:\n",
      "{'average': 3.0}\n",
      "2024-10-18 11:10:04.125 DEBUG AverageService : Message received: \n",
      "f{'method': 'compute_average', 'args': {'values': []}}\n",
      "2024-10-18 11:10:04.125 DEBUG AverageService : routing_key_reply = famq.gen-BK1fil2N-3NUkB9nkaQ0Lg\n",
      "2024-10-18 11:10:04.125 DEBUG AverageService : request_id = f9424424e-eee5-4298-af12-8d98a5a753c3\n",
      "2024-10-18 11:10:04.125 INFO AverageService : compute_average called. Received values: []\n",
      "2024-10-18 11:10:04.125 WARNING AverageService : Received an empty list of values. Cannot compute average. Returning error\n",
      "2024-10-18 11:10:04.125 DEBUG AverageService : Sending reply msg:\n",
      "{'error': 'Received an empty list of values. Cannot compute average.'}\n",
      "2024-10-18 11:10:04.250 DEBUG AverageService : Message received: \n",
      "f{'method': 'some_other_method', 'args': {'values': []}}\n",
      "2024-10-18 11:10:04.250 DEBUG AverageService : routing_key_reply = famq.gen-3uQhKoXLW8pFPeQoh4h8bw\n",
      "2024-10-18 11:10:04.250 DEBUG AverageService : request_id = f831effae-7612-4ba6-bde5-2144046d14e9\n",
      "2024-10-18 11:10:04.250 WARNING AverageService : Method specified does not exist: some_other_method. Message:\n",
      "{'method': 'some_other_method', 'args': {'values': []}}\n",
      "2024-10-18 11:10:04.250 DEBUG AverageService : Sending reply msg:\n",
      "{'error': 'Method specified does not exist: some_other_method.'}\n",
      "\n"
     ]
    }
   ],
   "source": [
    "# Print contents of log file to check that the service received the request and sent a response\n",
    "with open('AverageService.log', 'r') as f:\n",
    "    print(f.read())"
   ]
  },
  {
   "cell_type": "code",
   "execution_count": 12,
   "metadata": {},
   "outputs": [],
   "source": [
    "# Terminate process forcefully. This is the simplest and most readable way to terminate services, as most resources are automatically cleaned by the rabbitmq classes. Not recommended for a production environment though.\n",
    "\n",
    "avg_service_proc.terminate() # Terminate the process. Send SIGTERM signal to the process. The process can catch this signal and perform cleanup operations before exiting, so we wait.\n",
    "avg_service_proc.wait()  # Wait for the process to exit fully. Should print exit code 1, due to interruption.\n",
    "\n",
    "# Ensure process has exited\n",
    "assert avg_service_proc.returncode is not None, 'Process has not exited'"
   ]
  }
 ],
 "metadata": {
  "kernelspec": {
   "display_name": "Python 3",
   "language": "python",
   "name": "python3"
  },
  "language_info": {
   "codemirror_mode": {
    "name": "ipython",
    "version": 3
   },
   "file_extension": ".py",
   "mimetype": "text/x-python",
   "name": "python",
   "nbconvert_exporter": "python",
   "pygments_lexer": "ipython3",
   "version": "3.11.2"
  }
 },
 "nbformat": 4,
 "nbformat_minor": 2
}
