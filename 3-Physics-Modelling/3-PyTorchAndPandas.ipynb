{
 "cells": [
  {
   "cell_type": "markdown",
   "metadata": {},
   "source": [
    "# Training Neural Networks with Pandas and PyTorch "
   ]
  },
  {
   "cell_type": "markdown",
   "metadata": {},
   "source": [
    "## 1. Pandas\n",
    "\n",
    "Pandas is a powerful and widely-used Python library for data manipulation and analysis. It provides data structures like **DataFrames** and **Series** that are essential for working with structured data (e.g., CSV files, databases, and Excel files).\n",
    "\n",
    "You can install Pandas using `pip` by running the following command in your terminal or command prompt:"
   ]
  },
  {
   "cell_type": "code",
   "execution_count": 2,
   "metadata": {},
   "outputs": [
    {
     "name": "stdout",
     "output_type": "stream",
     "text": [
      "Requirement already satisfied: pandas in c:\\python\\python311\\lib\\site-packages (2.1.0)\n",
      "Requirement already satisfied: numpy>=1.23.2 in c:\\python\\python311\\lib\\site-packages (from pandas) (1.26.3)\n",
      "Requirement already satisfied: python-dateutil>=2.8.2 in c:\\python\\python311\\lib\\site-packages (from pandas) (2.8.2)\n",
      "Requirement already satisfied: pytz>=2020.1 in c:\\python\\python311\\lib\\site-packages (from pandas) (2023.3.post1)\n",
      "Requirement already satisfied: tzdata>=2022.1 in c:\\python\\python311\\lib\\site-packages (from pandas) (2023.3)\n",
      "Requirement already satisfied: six>=1.5 in c:\\python\\python311\\lib\\site-packages (from python-dateutil>=2.8.2->pandas) (1.16.0)\n",
      "Note: you may need to restart the kernel to use updated packages.\n"
     ]
    }
   ],
   "source": [
    "%pip install pandas"
   ]
  },
  {
   "cell_type": "markdown",
   "metadata": {},
   "source": [
    "### Key Features of Pandas\n",
    "\n",
    "- **DataFrame and Series Objects:** Pandas introduces two core data structures:\n",
    "  - **Series:** A one-dimensional array with labeled indices.\n",
    "  - **DataFrame:** A two-dimensional table (rows and columns) that can handle different data types (e.g., integers, strings, floats).\n",
    "- **Data Handling:** You can easily handle missing data, filter, and clean your datasets using intuitive commands.\n",
    "- **Data Analysis and Manipulation:** Pandas makes it simple to group, pivot, merge, and join datasets.\n",
    "\n",
    "### Basic Usage Example"
   ]
  },
  {
   "cell_type": "code",
   "execution_count": 3,
   "metadata": {},
   "outputs": [
    {
     "name": "stdout",
     "output_type": "stream",
     "text": [
      "      Name  Age Occupation\n",
      "0    Alice   25   Engineer\n",
      "1      Bob   30     Doctor\n",
      "2  Charlie   35     Artist\n",
      "        Age\n",
      "count   3.0\n",
      "mean   30.0\n",
      "std     5.0\n",
      "min    25.0\n",
      "25%    27.5\n",
      "50%    30.0\n",
      "75%    32.5\n",
      "max    35.0\n"
     ]
    }
   ],
   "source": [
    "import pandas as pd\n",
    "\n",
    "# Creating a DataFrame\n",
    "data = {\n",
    "    'Name': ['Alice', 'Bob', 'Charlie'],\n",
    "    'Age': [25, 30, 35],\n",
    "    'Occupation': ['Engineer', 'Doctor', 'Artist']\n",
    "}\n",
    "df = pd.DataFrame(data)\n",
    "\n",
    "# Viewing the DataFrame\n",
    "print(df)\n",
    "\n",
    "# Accessing a column\n",
    "ages = df['Age']\n",
    "\n",
    "# Filtering rows\n",
    "adults = df[df['Age'] > 28]\n",
    "\n",
    "# Summary statistics\n",
    "summary = df.describe()\n",
    "print(summary)"
   ]
  },
  {
   "cell_type": "markdown",
   "metadata": {},
   "source": [
    "### Loading a CSV File\n",
    "\n",
    "Pandas makes it easy to load and analyze data from CSV files. Here’s an example of how to load a CSV file using Pandas:"
   ]
  },
  {
   "cell_type": "code",
   "execution_count": 4,
   "metadata": {},
   "outputs": [],
   "source": [
    "# Get CSV file from an incubator dataset\n",
    "import sys\n",
    "import os\n",
    "\n",
    "# Get the current working directory.\n",
    "current_dir = os.getcwd()\n",
    "\n",
    "assert os.path.basename(current_dir) == '3-Physics-Modelling', 'Current directory is not 3-Physics-Modelling'\n",
    "\n",
    "# Get the parent directory. Should be the root of the repository\n",
    "parent_dir = os.path.dirname(current_dir)\n",
    "\n",
    "# The root of the repo should contain the incubator_dt folder. Otherwise something went wrong in 0-Pre-requisites.\n",
    "assert os.path.exists(os.path.join(parent_dir, 'incubator_dt')), 'incubator_dt folder not found in the repository root'\n",
    "\n",
    "csv_file_path = os.path.join(parent_dir, 'incubator_dt', 'software', 'incubator', 'datasets', '20230501_calibration_empty_system', '20230501_calibration_empty_system.csv')\n",
    "\n",
    "assert os.path.exists(csv_file_path), '20230501_calibration_empty_system.csv not found in the incubator repository.'"
   ]
  },
  {
   "cell_type": "code",
   "execution_count": 9,
   "metadata": {},
   "outputs": [
    {
     "data": {
      "text/html": [
       "<div>\n",
       "<style scoped>\n",
       "    .dataframe tbody tr th:only-of-type {\n",
       "        vertical-align: middle;\n",
       "    }\n",
       "\n",
       "    .dataframe tbody tr th {\n",
       "        vertical-align: top;\n",
       "    }\n",
       "\n",
       "    .dataframe thead th {\n",
       "        text-align: right;\n",
       "    }\n",
       "</style>\n",
       "<table border=\"1\" class=\"dataframe\">\n",
       "  <thead>\n",
       "    <tr style=\"text-align: right;\">\n",
       "      <th></th>\n",
       "      <th>time</th>\n",
       "      <th>t1</th>\n",
       "      <th>time_t1</th>\n",
       "      <th>t2</th>\n",
       "      <th>time_t2</th>\n",
       "      <th>t3</th>\n",
       "      <th>time_t3</th>\n",
       "      <th>average_temperature</th>\n",
       "      <th>heater_on</th>\n",
       "      <th>fan_on</th>\n",
       "      <th>execution_interval</th>\n",
       "      <th>elapsed</th>\n",
       "      <th>heater_on_int</th>\n",
       "    </tr>\n",
       "  </thead>\n",
       "  <tbody>\n",
       "    <tr>\n",
       "      <th>0</th>\n",
       "      <td>1682912554273107499</td>\n",
       "      <td>23.062</td>\n",
       "      <td>1682912554192856639</td>\n",
       "      <td>24.312</td>\n",
       "      <td>1682912554232822932</td>\n",
       "      <td>22.125</td>\n",
       "      <td>1682912554272705263</td>\n",
       "      <td>23.6870</td>\n",
       "      <td>False</td>\n",
       "      <td>False</td>\n",
       "      <td>3.0</td>\n",
       "      <td>1.025402</td>\n",
       "      <td>0</td>\n",
       "    </tr>\n",
       "    <tr>\n",
       "      <th>1</th>\n",
       "      <td>1682912557313698460</td>\n",
       "      <td>23.062</td>\n",
       "      <td>1682912557272792494</td>\n",
       "      <td>24.375</td>\n",
       "      <td>1682912557232848441</td>\n",
       "      <td>22.125</td>\n",
       "      <td>1682912557313344724</td>\n",
       "      <td>23.7185</td>\n",
       "      <td>False</td>\n",
       "      <td>False</td>\n",
       "      <td>3.0</td>\n",
       "      <td>1.064928</td>\n",
       "      <td>0</td>\n",
       "    </tr>\n",
       "    <tr>\n",
       "      <th>2</th>\n",
       "      <td>1682912560282455551</td>\n",
       "      <td>23.062</td>\n",
       "      <td>1682912560232232220</td>\n",
       "      <td>24.375</td>\n",
       "      <td>1682912560192178595</td>\n",
       "      <td>22.062</td>\n",
       "      <td>1682912560282224276</td>\n",
       "      <td>23.7185</td>\n",
       "      <td>False</td>\n",
       "      <td>False</td>\n",
       "      <td>3.0</td>\n",
       "      <td>1.031638</td>\n",
       "      <td>0</td>\n",
       "    </tr>\n",
       "    <tr>\n",
       "      <th>3</th>\n",
       "      <td>1682912563313803672</td>\n",
       "      <td>23.125</td>\n",
       "      <td>1682912563273056592</td>\n",
       "      <td>24.375</td>\n",
       "      <td>1682912563232827969</td>\n",
       "      <td>22.062</td>\n",
       "      <td>1682912563313317234</td>\n",
       "      <td>23.7500</td>\n",
       "      <td>False</td>\n",
       "      <td>False</td>\n",
       "      <td>3.0</td>\n",
       "      <td>1.061013</td>\n",
       "      <td>0</td>\n",
       "    </tr>\n",
       "    <tr>\n",
       "      <th>4</th>\n",
       "      <td>1682912566283347240</td>\n",
       "      <td>23.125</td>\n",
       "      <td>1682912566243313892</td>\n",
       "      <td>24.375</td>\n",
       "      <td>1682912566192896637</td>\n",
       "      <td>22.062</td>\n",
       "      <td>1682912566282895616</td>\n",
       "      <td>23.7500</td>\n",
       "      <td>False</td>\n",
       "      <td>False</td>\n",
       "      <td>3.0</td>\n",
       "      <td>1.028555</td>\n",
       "      <td>0</td>\n",
       "    </tr>\n",
       "  </tbody>\n",
       "</table>\n",
       "</div>"
      ],
      "text/plain": [
       "                  time      t1              time_t1      t2  \\\n",
       "0  1682912554273107499  23.062  1682912554192856639  24.312   \n",
       "1  1682912557313698460  23.062  1682912557272792494  24.375   \n",
       "2  1682912560282455551  23.062  1682912560232232220  24.375   \n",
       "3  1682912563313803672  23.125  1682912563273056592  24.375   \n",
       "4  1682912566283347240  23.125  1682912566243313892  24.375   \n",
       "\n",
       "               time_t2      t3              time_t3  average_temperature  \\\n",
       "0  1682912554232822932  22.125  1682912554272705263              23.6870   \n",
       "1  1682912557232848441  22.125  1682912557313344724              23.7185   \n",
       "2  1682912560192178595  22.062  1682912560282224276              23.7185   \n",
       "3  1682912563232827969  22.062  1682912563313317234              23.7500   \n",
       "4  1682912566192896637  22.062  1682912566282895616              23.7500   \n",
       "\n",
       "   heater_on  fan_on  execution_interval   elapsed  heater_on_int  \n",
       "0      False   False                 3.0  1.025402              0  \n",
       "1      False   False                 3.0  1.064928              0  \n",
       "2      False   False                 3.0  1.031638              0  \n",
       "3      False   False                 3.0  1.061013              0  \n",
       "4      False   False                 3.0  1.028555              0  "
      ]
     },
     "execution_count": 9,
     "metadata": {},
     "output_type": "execute_result"
    }
   ],
   "source": [
    "import pandas as pd\n",
    "\n",
    "# Load the CSV file\n",
    "df = pd.read_csv(csv_file_path)\n",
    "\n",
    "# Create a new column derived from another one, but converting from boolean to int.\n",
    "df['heater_on_int'] = df['heater_on'].astype(int)\n",
    "\n",
    "# Display the first few rows of the dataframe\n",
    "df.head()"
   ]
  },
  {
   "cell_type": "markdown",
   "metadata": {},
   "source": [
    "In this example, we use the `pd.read_csv()` function to load the data into a Pandas DataFrame. The `df.head()` function shows the first few rows of the dataset.\n",
    "\n",
    "### Plotting Data\n",
    "\n",
    "Pandas integrates well with Matplotlib to provide easy-to-use plotting functionalities. Here's how to plot data from the CSV file:"
   ]
  },
  {
   "cell_type": "code",
   "execution_count": 14,
   "metadata": {},
   "outputs": [
    {
     "data": {
      "image/png": "[encoded data removed]",
      "text/plain": [
       "<Figure size 800x600 with 2 Axes>"
      ]
     },
     "metadata": {},
     "output_type": "display_data"
    }
   ],
   "source": [
    "import matplotlib.pyplot as plt\n",
    "\n",
    "# Create subplots with shared X-axis of the data to be used in training.\n",
    "fig, (ax1, ax2) = plt.subplots(2, 1, sharex=True, figsize=(8, 6))\n",
    "\n",
    "# Plot temperature data on the first subplot\n",
    "ax1.plot(df.index, df.average_temperature, label='Temperature')\n",
    "ax1.plot(df.index, df.t3, label='Room Temperature')\n",
    "ax1.set_ylabel('Temperature (°C)')\n",
    "ax1.legend()\n",
    "\n",
    "ax1.grid(True)\n",
    "\n",
    "# Plot control signal data on the second subplot\n",
    "ax2.plot(df.index, df.heater_on, label='Heater')\n",
    "ax2.plot(df.index, df.heater_on_int, label='Heater') # just to verify that the conversion is correct\n",
    "ax2.set_xlabel('Samples')\n",
    "ax2.set_ylabel('Control Signal')\n",
    "ax2.legend()\n",
    "\n",
    "ax2.grid(True)\n",
    "\n",
    "# Add a title to the shared X-axis\n",
    "fig.suptitle('Temperature and Control Signal')\n",
    "\n",
    "# Show the plots\n",
    "plt.show()"
   ]
  },
  {
   "cell_type": "markdown",
   "metadata": {},
   "source": [
    "## 2. PyTorch\n",
    "\n",
    "**PyTorch** is an open-source machine learning framework primarily used for deep learning applications. It is known for its flexibility and dynamic computational graphs, which allow for efficient development and debugging.\n",
    "\n",
    "### Installation\n",
    "\n",
    "To install PyTorch, visit [https://pytorch.org](https://pytorch.org) and follow the instructions based on your operating system, preferred version, and whether or not you have a CUDA-capable GPU. \n",
    "\n",
    "### Key Features of PyTorch:\n",
    "- **Tensors:** The core data structure in PyTorch is the tensor, which is similar to NumPy arrays but optimized for GPU-based operations.\n",
    "\n",
    "- **Dynamic Computational Graphs:** PyTorch dynamically builds computation graphs at runtime, allowing for more flexibility in model development.\n",
    "\n",
    "- **Neural Networks:** PyTorch provides a module called `torch.nn`, which simplifies building deep learning models like Convolutional Neural Networks (CNNs), Recurrent Neural Networks (RNNs), etc.\n",
    "\n",
    "- **Autograd:** PyTorch has automatic differentiation that helps compute gradients automatically for backpropagation in neural networks.\n",
    "\n",
    "### Basic Usage Example"
   ]
  },
  {
   "cell_type": "code",
   "execution_count": 15,
   "metadata": {},
   "outputs": [
    {
     "name": "stdout",
     "output_type": "stream",
     "text": [
      "tensor([[-0.2734]], grad_fn=<AddmmBackward0>)\n"
     ]
    }
   ],
   "source": [
    "import torch\n",
    "import torch.nn as nn\n",
    "\n",
    "# Creating a tensor\n",
    "x = torch.tensor([[1.0, 2.0], [3.0, 4.0]])\n",
    "\n",
    "# Performing tensor operations\n",
    "y = torch.mean(x)\n",
    "\n",
    "# Building a simple neural network\n",
    "class SimpleNN(nn.Module):\n",
    "    def __init__(self):\n",
    "        super(SimpleNN, self).__init__()\n",
    "        self.fc1 = nn.Linear(2, 1)\n",
    "\n",
    "    def forward(self, x):\n",
    "        return self.fc1(x)\n",
    "\n",
    "# Instantiating the model\n",
    "model = SimpleNN()\n",
    "\n",
    "# Forward pass with random input\n",
    "input_data = torch.randn(1, 2)\n",
    "output = model(input_data)\n",
    "print(output)"
   ]
  }
 ],
 "metadata": {
  "kernelspec": {
   "display_name": "Python 3",
   "language": "python",
   "name": "python3"
  },
  "language_info": {
   "codemirror_mode": {
    "name": "ipython",
    "version": 3
   },
   "file_extension": ".py",
   "mimetype": "text/x-python",
   "name": "python",
   "nbconvert_exporter": "python",
   "pygments_lexer": "ipython3",
   "version": "3.11.2"
  }
 },
 "nbformat": 4,
 "nbformat_minor": 2
}
